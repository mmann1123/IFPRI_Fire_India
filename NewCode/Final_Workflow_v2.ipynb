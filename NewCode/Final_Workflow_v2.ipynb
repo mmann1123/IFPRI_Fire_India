{
 "cells": [
  {
   "cell_type": "markdown",
   "metadata": {},
   "source": [
    "# Classifying Burned Crop Residue\n",
    "The following tutorial walks through the use of PlanetLabs daily imagery to classify pixels that have burned crop residue during the harvest seasons"
   ]
  },
  {
   "cell_type": "markdown",
   "metadata": {},
   "source": [
    "### Import required packages"
   ]
  },
  {
   "cell_type": "code",
   "execution_count": 3,
   "metadata": {},
   "outputs": [],
   "source": [
    "import os\n",
    "import json\n",
    "import rasterio\n",
    "import fiona\n",
    "from glob import glob\n",
    "import matplotlib.pyplot as plt\n",
    "%matplotlib inline\n",
    "from rasterio.warp import calculate_default_transform, reproject, Resampling\n",
    "import seaborn as sb\n",
    "from itertools import chain\n",
    "import rasterio.mask\n",
    "import geopandas as gpd\n",
    "import gdal\n",
    "from sklearn.metrics import accuracy_score,confusion_matrix, cohen_kappa_score\n",
    "from sklearn.ensemble import RandomForestClassifier, GradientBoostingClassifier\n",
    "import tsraster.model  as md\n",
    "import tsraster.prep as tr\n",
    "import pandas as pd\n",
    "from tsraster.calculate import calculateFeatures, image_to_series, \\\n",
    "                                exportFeatures\n",
    "from sklearn.cluster import KMeans, DBSCAN, OPTICS\n",
    "from sklearn.preprocessing import StandardScaler\n",
    "import numpy as np\n",
    "from rasterstats import point_query\n",
    "\n",
    "import dask\n",
    "import dask.dataframe as dd\n",
    "from dask.distributed import Client\n",
    "from xml.dom import minidom"
   ]
  },
  {
   "cell_type": "code",
   "execution_count": 4,
   "metadata": {},
   "outputs": [],
   "source": [
    "# set input data location\n",
    "inpath = \"../Images_new\"\n",
    "\n",
    "# get custom functions \n",
    "os.chdir(r'C:\\Users\\mmann\\Dropbox\\IFPRI_Fire_India\\NewCode')\n",
    "from functions import merge_days, bai_rast_MS, ndvi_rast_MS, \\\n",
    "bai_rast_SR, ndvi_rast_SR, \\\n",
    "  merge_all_rast,find_unique_days,reproject_to_match, radiance_2_reflectance\n"
   ]
  },
  {
   "cell_type": "markdown",
   "metadata": {},
   "source": [
    "## Merge daily images\n",
    "The output from planetlabs is several different rasters as the area of interest will be over multiple images. This is due to how the imagery was taken. The images must be combined together through the process of merge.\n"
   ]
  },
  {
   "cell_type": "markdown",
   "metadata": {},
   "source": [
    "### Create BAI and NDVI index\n",
    "To create burned area index (BAI) and normalized difference vegetation index (NDVI) we need to first convert daily images from radience to reflectance values.  \n",
    "\n",
    "Note: It is not clear that previous BAI index values map well to reflectance values in planet lab data."
   ]
  },
  {
   "cell_type": "code",
   "execution_count": 3,
   "metadata": {},
   "outputs": [
    {
     "name": "stdout",
     "output_type": "stream",
     "text": [
      "Unique Dates: ['20161126', '20161018', '20161121', '20161101', '20161213', '20161012', '20160828', '20161028', '20161027']\n",
      "../Images_new\\20161126_044358_0e3a\\20161126_044358_0e3a_3B_AnalyticMS.tif\n",
      "nir band reflectance is 0.0 0.1688351437992264   0.43851275662066924\n",
      "red band reflectance is 0.0 0.1688351437992264   0.360511272835371\n"
     ]
    },
    {
     "name": "stderr",
     "output_type": "stream",
     "text": [
      "C:\\Users\\mmann\\AppData\\Local\\Continuum\\anaconda2\\envs\\ts-rasterv3\\lib\\site-packages\\numpy\\lib\\function_base.py:3405: RuntimeWarning: Invalid value encountered in median\n",
      "  r = func(a, **kwargs)\n"
     ]
    },
    {
     "name": "stdout",
     "output_type": "stream",
     "text": [
      "BAI band reflectance is nan nan   nan\n",
      "../Images_new\\20161126_044357_0e3a\\20161126_044357_0e3a_3B_AnalyticMS.tif\n",
      "nir band reflectance is 0.0 0.16727972708370958   0.6504788621176562\n",
      "red band reflectance is 0.0 0.16727972708370958   0.437366766126668\n",
      "BAI band reflectance is nan nan   nan\n",
      "../Images_new\\20161018_044252_0e1f\\20161018_044252_0e1f_3B_AnalyticMS.tif\n",
      "nir band reflectance is 0.0 0.182897913869688   0.465110209374264\n",
      "red band reflectance is 0.0 0.182897913869688   0.334910320167153\n",
      "BAI band reflectance is nan nan   nan\n",
      "../Images_new\\20161018_044250_0e1f\\20161018_044250_0e1f_3B_AnalyticMS.tif\n",
      "nir band reflectance is 0.0 0.1929529551346526   0.4262744341568132\n",
      "red band reflectance is 0.0 0.1929529551346526   0.4064222771731868\n",
      "BAI band reflectance is nan nan   nan\n",
      "../Images_new\\20161018_044251_0e1f\\20161018_044251_0e1f_3B_AnalyticMS.tif\n",
      "nir band reflectance is 0.0 0.1886927503039692   0.425609841522368\n",
      "red band reflectance is 0.0 0.1886927503039692   0.3899014167734158\n",
      "BAI band reflectance is nan nan   nan\n",
      "../Images_new\\20161121_044426_0e3a\\20161121_044426_0e3a_3B_AnalyticMS.tif\n",
      "nir band reflectance is 0.0 0.171062690827504   0.38717465824429004\n",
      "red band reflectance is 0.0 0.171062690827504   0.2801694015293\n",
      "BAI band reflectance is nan nan   nan\n",
      "../Images_new\\20161121_044424_0e3a\\20161121_044424_0e3a_3B_AnalyticMS.tif\n",
      "nir band reflectance is 0.0 0.1805216700069924   0.4234555321530805\n",
      "red band reflectance is 0.0 0.1805216700069924   0.3388764465532193\n",
      "BAI band reflectance is nan nan   nan\n",
      "../Images_new\\20161121_044425_0e3a\\20161121_044425_0e3a_3B_AnalyticMS.tif\n",
      "nir band reflectance is 0.0 0.1790076063935628   0.3906045766688805\n",
      "red band reflectance is 0.0 0.1790076063935628   0.3330380230385891\n",
      "BAI band reflectance is nan nan   nan\n",
      "../Images_new\\20161101_044329_0e0d\\20161101_044329_0e0d_3B_AnalyticMS.tif\n",
      "nir band reflectance is 0.0 0.1714561474904901   0.6670506722787133\n",
      "red band reflectance is 0.0 0.1714561474904901   0.3227461287426333\n",
      "BAI band reflectance is nan nan   nan\n",
      "../Images_new\\20161101_044328_0e0d\\20161101_044328_0e0d_3B_AnalyticMS.tif\n",
      "nir band reflectance is 0.0 0.171797232766308   0.666915010316735\n",
      "red band reflectance is 0.0 0.171797232766308   0.36058736797602603\n",
      "BAI band reflectance is nan nan   nan\n",
      "../Images_new\\20161101_044327_0e0d\\20161101_044327_0e0d_3B_AnalyticMS.tif\n",
      "nir band reflectance is 0.0 0.17274048050505922   0.6788016580018132\n",
      "red band reflectance is 0.0 0.17274048050505922   0.5551453920903899\n",
      "BAI band reflectance is nan nan   nan\n",
      "../Images_new\\20161213_070354_0c24\\20161213_070354_0c24_3B_AnalyticMS.tif\n",
      "nir band reflectance is 0.0 0.0   0.4042862568223894\n",
      "red band reflectance is 0.0 0.0   0.35726146221061766\n",
      "BAI band reflectance is nan nan   nan\n",
      "../Images_new\\20161213_070353_0c24\\20161213_070353_0c24_3B_AnalyticMS.tif\n",
      "nir band reflectance is 0.0 0.0   0.3455170923209666\n",
      "red band reflectance is 0.0 0.0   0.2667565851516936\n",
      "BAI band reflectance is nan nan   nan\n",
      "../Images_new\\20161213_070355_1_0c24\\20161213_070355_1_0c24_3B_AnalyticMS.tif\n",
      "nir band reflectance is 0.0 0.0   0.3678644463965064\n",
      "red band reflectance is 0.0 0.0   0.3421612620545814\n",
      "BAI band reflectance is nan nan   nan\n",
      "../Images_new\\20161213_070355_0c24\\20161213_070355_0c24_3B_AnalyticMS.tif\n",
      "nir band reflectance is 0.0 0.0   0.3672186568152228\n",
      "red band reflectance is 0.0 0.0   0.29222957664328003\n",
      "BAI band reflectance is nan nan   nan\n",
      "../Images_new\\20161012_044348_0e3a\\20161012_044348_0e3a_3B_AnalyticMS.tif\n",
      "nir band reflectance is 0.0 0.2007922028058425   0.42576357139458754\n",
      "red band reflectance is 0.0 0.2007922028058425   0.3373996810285596\n",
      "BAI band reflectance is nan nan   nan\n",
      "../Images_new\\20161012_044347_0e3a\\20161012_044347_0e3a_3B_AnalyticMS.tif\n",
      "nir band reflectance is 0.0 0.202944405293658   0.4124544114222\n",
      "red band reflectance is 0.0 0.202944405293658   0.329546395117645\n",
      "BAI band reflectance is nan nan   nan\n",
      "../Images_new\\20161012_044206_0e0d\\20161012_044206_0e0d_3B_AnalyticMS.tif\n",
      "nir band reflectance is 0.0 0.210459184831464   0.6287442022313569\n",
      "red band reflectance is 0.0 0.210459184831464   0.6889209772554145\n",
      "BAI band reflectance is nan nan   nan\n",
      "../Images_new\\20161012_044208_0e0d\\20161012_044208_0e0d_3B_AnalyticMS.tif\n",
      "nir band reflectance is 0.0 0.206517318713783   0.558578187623225\n",
      "red band reflectance is 0.0 0.206517318713783   0.7163958885683184\n",
      "BAI band reflectance is nan nan   nan\n",
      "../Images_new\\20160828_101830_0c46\\20160828_101830_0c46_3B_AnalyticMS.tif\n",
      "nir band reflectance is 0.0 0.0   1.0063570635089052\n",
      "red band reflectance is 0.0 0.0   0.6683984454398165\n",
      "BAI band reflectance is nan nan   nan\n",
      "../Images_new\\20160828_101831_0c46\\20160828_101831_0c46_3B_AnalyticMS.tif\n",
      "nir band reflectance is 0.0 0.0   0.8294915891900106\n",
      "red band reflectance is 0.0 0.0   0.5945082439172606\n",
      "BAI band reflectance is nan nan   nan\n",
      "../Images_new\\20160828_101834_1_0c46\\20160828_101834_1_0c46_3B_AnalyticMS.tif\n",
      "nir band reflectance is 0.0 0.0   0.9347773902213199\n",
      "red band reflectance is 0.0 0.0   0.6362720105053937\n",
      "BAI band reflectance is nan nan   nan\n",
      "../Images_new\\20160828_101913_0c81\\20160828_101913_0c81_3B_AnalyticMS.tif\n",
      "nir band reflectance is 0.0 0.0   0.4603132193528682\n",
      "red band reflectance is 0.0 0.0   0.293466597887106\n",
      "BAI band reflectance is nan nan   nan\n",
      "../Images_new\\20160828_101917_0c81\\20160828_101917_0c81_3B_AnalyticMS.tif\n",
      "nir band reflectance is 0.0 0.0   0.91025948974324\n",
      "red band reflectance is 0.0 0.0   0.5791153674117786\n",
      "BAI band reflectance is nan nan   nan\n",
      "../Images_new\\20160828_101916_0c81\\20160828_101916_0c81_3B_AnalyticMS.tif\n",
      "nir band reflectance is 0.0 0.0   1.3182907319265826\n",
      "red band reflectance is 0.0 0.0   0.6701690061979676\n",
      "BAI band reflectance is nan nan   nan\n",
      "../Images_new\\20160828_101915_0c81\\20160828_101915_0c81_3B_AnalyticMS.tif\n",
      "nir band reflectance is 0.0 0.0   1.9148155064232215\n",
      "red band reflectance is 0.0 0.0   0.6664708970787352\n",
      "BAI band reflectance is nan nan   nan\n",
      "../Images_new\\20160828_101914_1_0c81\\20160828_101914_1_0c81_3B_AnalyticMS.tif\n",
      "nir band reflectance is 0.0 0.0   0.6134849939484212\n",
      "red band reflectance is 0.0 0.0   0.6970185935895\n",
      "BAI band reflectance is nan nan   nan\n",
      "../Images_new\\20160828_101834_0c46\\20160828_101834_0c46_3B_AnalyticMS.tif\n",
      "nir band reflectance is 0.0 0.0   1.3237802746406329\n",
      "red band reflectance is 0.0 0.0   0.678777487800698\n",
      "BAI band reflectance is nan nan   nan\n",
      "../Images_new\\20160828_101832_0c46\\20160828_101832_0c46_3B_AnalyticMS.tif\n",
      "nir band reflectance is 0.0 0.0   1.345345743555103\n",
      "red band reflectance is 0.0 0.0   0.6477785925605111\n",
      "BAI band reflectance is nan nan   nan\n",
      "../Images_new\\20160828_101833_0c46\\20160828_101833_0c46_3B_AnalyticMS.tif\n",
      "nir band reflectance is 0.0 0.0   1.3515505634090168\n",
      "red band reflectance is 0.0 0.0   0.6552542413155614\n",
      "BAI band reflectance is nan nan   nan\n",
      "../Images_new\\20160828_101914_0c81\\20160828_101914_0c81_3B_AnalyticMS.tif\n",
      "nir band reflectance is 0.0 0.0   0.7806134727110776\n",
      "red band reflectance is 0.0 0.0   0.5819416033527568\n",
      "BAI band reflectance is nan nan   nan\n",
      "../Images_new\\20161028_044228_0e0f\\20161028_044228_0e0f_3B_AnalyticMS.tif\n",
      "nir band reflectance is 0.0 0.1842800910086577   0.4303877784205102\n",
      "red band reflectance is 0.0 0.1842800910086577   0.3999767461941907\n",
      "BAI band reflectance is nan nan   nan\n",
      "../Images_new\\20161028_044229_0e0f\\20161028_044229_0e0f_3B_AnalyticMS.tif\n",
      "nir band reflectance is 0.0 0.18443934316234298   0.4719778318270138\n",
      "red band reflectance is 0.0 0.18443934316234298   0.3557089674737828\n",
      "BAI band reflectance is nan nan   nan\n",
      "../Images_new\\20161027_044321_0e0d\\20161027_044321_0e0d_3B_AnalyticMS.tif\n",
      "nir band reflectance is 0.0 0.17404324113344838   0.45093225617371396\n",
      "red band reflectance is 0.0 0.17404324113344838   0.3985445933142597\n",
      "BAI band reflectance is nan nan   nan\n",
      "../Images_new\\20161027_020342_0c81\\20161027_020342_0c81_3B_AnalyticMS.tif\n",
      "nir band reflectance is 0.0 0.0   0.444980365286742\n",
      "red band reflectance is 0.0 0.0   0.352566755343297\n",
      "BAI band reflectance is nan nan   nan\n",
      "../Images_new\\20161027_020340_1_0c81\\20161027_020340_1_0c81_3B_AnalyticMS.tif\n",
      "nir band reflectance is 0.0 0.0   0.3822277632248\n",
      "red band reflectance is 0.0 0.0   0.22696048467538268\n",
      "BAI band reflectance is nan nan   nan\n",
      "../Images_new\\20161027_021506_0c62\\20161027_021506_0c62_3B_AnalyticMS.tif\n",
      "nir band reflectance is 0.0 0.0   0.41381566316277596\n",
      "red band reflectance is 0.0 0.0   0.32415501299403\n",
      "BAI band reflectance is nan nan   nan\n",
      "../Images_new\\20161027_020341_0c81\\20161027_020341_0c81_3B_AnalyticMS.tif\n",
      "nir band reflectance is 0.0 0.0   0.44457324341508003\n",
      "red band reflectance is 0.0 0.0   0.389869262888028\n",
      "BAI band reflectance is nan nan   nan\n",
      "../Images_new\\20161027_021507_0c62\\20161027_021507_0c62_3B_AnalyticMS.tif\n",
      "nir band reflectance is 0.0 0.0   0.507371270670528\n",
      "red band reflectance is 0.0 0.0   0.4574675739036072\n",
      "BAI band reflectance is nan nan   nan\n",
      "../Images_new\\20161027_021506_1_0c62\\20161027_021506_1_0c62_3B_AnalyticMS.tif\n",
      "nir band reflectance is 0.0 0.0   0.640044138998732\n",
      "red band reflectance is 0.0 0.0   0.6536943386657118\n",
      "BAI band reflectance is nan nan   nan\n",
      "../Images_new\\20161027_044320_0e0d\\20161027_044320_0e0d_3B_AnalyticMS.tif\n",
      "nir band reflectance is 0.0 0.1747742468126846   0.4518334475327156\n",
      "red band reflectance is 0.0 0.1747742468126846   0.6751540848711604\n",
      "BAI band reflectance is nan nan   nan\n",
      "../Images_new\\20161027_044323_0e0d\\20161027_044323_0e0d_3B_AnalyticMS.tif\n",
      "nir band reflectance is 0.0 0.17174486532216798   0.47057196258246237\n",
      "red band reflectance is 0.0 0.17174486532216798   0.375280051563496\n",
      "BAI band reflectance is nan nan   nan\n",
      "../Images_new\\20161027_021505_0c62\\20161027_021505_0c62_3B_AnalyticMS.tif\n",
      "nir band reflectance is 0.0 0.0   0.429046668170345\n",
      "red band reflectance is 0.0 0.0   0.290717071525054\n",
      "BAI band reflectance is nan nan   nan\n"
     ]
    }
   ],
   "source": [
    "# Calculate NDVI and BAI and write out images \n",
    "inpath = \"../Images_new\"\n",
    "\n",
    "name_pattern ='MS.tif'\n",
    "unique_days = find_unique_days(inpath, name_pattern )\n",
    "bad_patterns = ['*DN_udm.tif','*merge.tif','*SR.tif']\n",
    "\n",
    "\n",
    "# create NDVI and BAI for each day \n",
    "for unique_day in unique_days:\n",
    "    # get all images for day\n",
    "    a_day_images = list(set(glob(os.path.join(inpath,'**/*'+ unique_day+'*'+name_pattern))))\n",
    "\n",
    "    # remove all unwanted\n",
    "    images_2_remove = [glob(os.path.join(inpath, '**/*'+unique_day+bad)) for bad in bad_patterns]\n",
    "    images_2_remove = list(set(chain(*images_2_remove))) # unlist of lists \n",
    "    a_day_images_filtered = list(set(a_day_images) - set(images_2_remove))\n",
    "\n",
    "    iterator = 0\n",
    "\n",
    "    for an_image in a_day_images_filtered:\n",
    "        \n",
    "        print(an_image)\n",
    "        # get coefficients to convert radiance to reflectance \n",
    "        r2r_dictionary = radiance_2_reflectance(an_image)\n",
    "        \n",
    "        bai_rast_MS(inpath=an_image, \n",
    "                 outpath=os.path.join(inpath,'bai',unique_day+\"_\"+str(iterator) + \"_bai.tif\"),\n",
    "                r2r_dictionary = r2r_dictionary)\n",
    "        \n",
    "        ndvi_rast_MS(inpath=an_image, \n",
    "                 outpath=os.path.join(inpath,'ndvi',unique_day +\"_\"+str(iterator) + \"_ndvi.tif\"),\n",
    "                 r2r_dictionary=r2r_dictionary)\n",
    "        \n",
    "        # write scaled reflectance values for false color composite exercise \n",
    "        write_reflectance(inpath=an_image, \n",
    "                  outpath=os.path.join(inpath,'reflectance',unique_day +\"_\"+str(iterator) + \"_reflectance.tif\"),\n",
    "                  r2r_dictionary=r2r_dictionary)\n",
    "        \n",
    "        iterator= iterator + 1 "
   ]
  },
  {
   "cell_type": "markdown",
   "metadata": {},
   "source": [
    "### Merge Same Day NDVI and BAI into Single File\n",
    "Each day can have multiple image segments. Here we combine images from the same day into a single image for BAI and NDVI."
   ]
  },
  {
   "cell_type": "code",
   "execution_count": 4,
   "metadata": {},
   "outputs": [
    {
     "name": "stdout",
     "output_type": "stream",
     "text": [
      "Unique Dates: ['20161126', '20161018', '20161121', '20161101', '20161213', '20161012', '20160828', '20161028', '20161027']\n",
      "File ../Images_new\\ndvi\\20161126_1_ndvi.tif\n",
      "File ../Images_new\\ndvi\\20161126_0_ndvi.tif\n",
      "mosiac shape:(1, 6992, 9549)\n",
      "#################\n",
      "Writing to ../Images_new/merge\\20161126_ndvi_merge.tif\n",
      "File ../Images_new\\ndvi\\20161018_1_ndvi.tif\n",
      "File ../Images_new\\ndvi\\20161018_2_ndvi.tif\n",
      "File ../Images_new\\ndvi\\20161018_0_ndvi.tif\n",
      "mosiac shape:(1, 9731, 10105)\n",
      "#################\n",
      "Writing to ../Images_new/merge\\20161018_ndvi_merge.tif\n",
      "File ../Images_new\\ndvi\\20161121_2_ndvi.tif\n",
      "File ../Images_new\\ndvi\\20161121_0_ndvi.tif\n",
      "File ../Images_new\\ndvi\\20161121_1_ndvi.tif\n",
      "mosiac shape:(1, 9602, 10022)\n",
      "#################\n",
      "Writing to ../Images_new/merge\\20161121_ndvi_merge.tif\n",
      "File ../Images_new\\ndvi\\20161101_1_ndvi.tif\n",
      "File ../Images_new\\ndvi\\20161101_2_ndvi.tif\n",
      "File ../Images_new\\ndvi\\20161101_0_ndvi.tif\n",
      "mosiac shape:(1, 9719, 10032)\n",
      "#################\n",
      "Writing to ../Images_new/merge\\20161101_ndvi_merge.tif\n",
      "File ../Images_new\\ndvi\\20161213_1_ndvi.tif\n",
      "File ../Images_new\\ndvi\\20161213_0_ndvi.tif\n",
      "File ../Images_new\\ndvi\\20161213_3_ndvi.tif\n",
      "File ../Images_new\\ndvi\\20161213_2_ndvi.tif\n",
      "mosiac shape:(1, 10306, 10280)\n",
      "#################\n",
      "Writing to ../Images_new/merge\\20161213_ndvi_merge.tif\n",
      "File ../Images_new\\ndvi\\20161012_3_ndvi.tif\n",
      "File ../Images_new\\ndvi\\20161012_1_ndvi.tif\n",
      "File ../Images_new\\ndvi\\20161012_2_ndvi.tif\n",
      "File ../Images_new\\ndvi\\20161012_0_ndvi.tif\n",
      "mosiac shape:(1, 7313, 23297)\n",
      "#################\n",
      "Writing to ../Images_new/merge\\20161012_ndvi_merge.tif\n",
      "File ../Images_new\\ndvi\\20160828_10_ndvi.tif\n",
      "File ../Images_new\\ndvi\\20160828_0_ndvi.tif\n",
      "File ../Images_new\\ndvi\\20160828_5_ndvi.tif\n",
      "File ../Images_new\\ndvi\\20160828_9_ndvi.tif\n",
      "File ../Images_new\\ndvi\\20160828_7_ndvi.tif\n",
      "File ../Images_new\\ndvi\\20160828_1_ndvi.tif\n",
      "File ../Images_new\\ndvi\\20160828_3_ndvi.tif\n",
      "File ../Images_new\\ndvi\\20160828_6_ndvi.tif\n",
      "File ../Images_new\\ndvi\\20160828_2_ndvi.tif\n",
      "File ../Images_new\\ndvi\\20160828_4_ndvi.tif\n",
      "File ../Images_new\\ndvi\\20160828_8_ndvi.tif\n",
      "File ../Images_new\\ndvi\\20160828_11_ndvi.tif\n",
      "mosiac shape:(1, 15503, 16525)\n",
      "#################\n",
      "Writing to ../Images_new/merge\\20160828_ndvi_merge.tif\n",
      "File ../Images_new\\ndvi\\20161028_0_ndvi.tif\n",
      "File ../Images_new\\ndvi\\20161028_1_ndvi.tif\n",
      "mosiac shape:(1, 6884, 9439)\n",
      "#################\n",
      "Writing to ../Images_new/merge\\20161028_ndvi_merge.tif\n",
      "File ../Images_new\\ndvi\\20161027_1_ndvi.tif\n",
      "File ../Images_new\\ndvi\\20161027_4_ndvi.tif\n",
      "File ../Images_new\\ndvi\\20161027_6_ndvi.tif\n",
      "File ../Images_new\\ndvi\\20161027_0_ndvi.tif\n",
      "File ../Images_new\\ndvi\\20161027_5_ndvi.tif\n",
      "File ../Images_new\\ndvi\\20161027_9_ndvi.tif\n",
      "File ../Images_new\\ndvi\\20161027_2_ndvi.tif\n",
      "File ../Images_new\\ndvi\\20161027_7_ndvi.tif\n",
      "File ../Images_new\\ndvi\\20161027_3_ndvi.tif\n",
      "File ../Images_new\\ndvi\\20161027_8_ndvi.tif\n",
      "mosiac shape:(1, 13887, 13096)\n",
      "#################\n",
      "Writing to ../Images_new/merge\\20161027_ndvi_merge.tif\n",
      "Unique Dates: ['20161126', '20161018', '20161121', '20161101', '20161213', '20161012', '20160828', '20161028', '20161027']\n",
      "File ../Images_new\\bai\\20161126_1_bai.tif\n",
      "File ../Images_new\\bai\\20161126_0_bai.tif\n",
      "mosiac shape:(1, 6992, 9549)\n",
      "#################\n",
      "Writing to ../Images_new/merge\\20161126_bai_merge.tif\n",
      "File ../Images_new\\bai\\20161018_0_bai.tif\n",
      "File ../Images_new\\bai\\20161018_1_bai.tif\n",
      "File ../Images_new\\bai\\20161018_2_bai.tif\n",
      "mosiac shape:(1, 9731, 10105)\n",
      "#################\n",
      "Writing to ../Images_new/merge\\20161018_bai_merge.tif\n",
      "File ../Images_new\\bai\\20161121_1_bai.tif\n",
      "File ../Images_new\\bai\\20161121_0_bai.tif\n",
      "File ../Images_new\\bai\\20161121_2_bai.tif\n",
      "mosiac shape:(1, 9602, 10022)\n",
      "#################\n",
      "Writing to ../Images_new/merge\\20161121_bai_merge.tif\n",
      "File ../Images_new\\bai\\20161101_1_bai.tif\n",
      "File ../Images_new\\bai\\20161101_2_bai.tif\n",
      "File ../Images_new\\bai\\20161101_0_bai.tif\n",
      "mosiac shape:(1, 9719, 10032)\n",
      "#################\n",
      "Writing to ../Images_new/merge\\20161101_bai_merge.tif\n",
      "File ../Images_new\\bai\\20161213_0_bai.tif\n",
      "File ../Images_new\\bai\\20161213_3_bai.tif\n",
      "File ../Images_new\\bai\\20161213_1_bai.tif\n",
      "File ../Images_new\\bai\\20161213_2_bai.tif\n",
      "mosiac shape:(1, 10306, 10280)\n",
      "#################\n",
      "Writing to ../Images_new/merge\\20161213_bai_merge.tif\n",
      "File ../Images_new\\bai\\20161012_3_bai.tif\n",
      "File ../Images_new\\bai\\20161012_1_bai.tif\n",
      "File ../Images_new\\bai\\20161012_0_bai.tif\n",
      "File ../Images_new\\bai\\20161012_2_bai.tif\n",
      "mosiac shape:(1, 7313, 23297)\n",
      "#################\n",
      "Writing to ../Images_new/merge\\20161012_bai_merge.tif\n",
      "File ../Images_new\\bai\\20160828_8_bai.tif\n",
      "File ../Images_new\\bai\\20160828_2_bai.tif\n",
      "File ../Images_new\\bai\\20160828_11_bai.tif\n",
      "File ../Images_new\\bai\\20160828_3_bai.tif\n",
      "File ../Images_new\\bai\\20160828_0_bai.tif\n",
      "File ../Images_new\\bai\\20160828_9_bai.tif\n",
      "File ../Images_new\\bai\\20160828_10_bai.tif\n",
      "File ../Images_new\\bai\\20160828_1_bai.tif\n",
      "File ../Images_new\\bai\\20160828_7_bai.tif\n",
      "File ../Images_new\\bai\\20160828_5_bai.tif\n",
      "File ../Images_new\\bai\\20160828_4_bai.tif\n",
      "File ../Images_new\\bai\\20160828_6_bai.tif\n",
      "mosiac shape:(1, 15503, 16525)\n",
      "#################\n",
      "Writing to ../Images_new/merge\\20160828_bai_merge.tif\n",
      "File ../Images_new\\bai\\20161028_1_bai.tif\n",
      "File ../Images_new\\bai\\20161028_0_bai.tif\n",
      "mosiac shape:(1, 6884, 9439)\n",
      "#################\n",
      "Writing to ../Images_new/merge\\20161028_bai_merge.tif\n",
      "File ../Images_new\\bai\\20161027_0_bai.tif\n",
      "File ../Images_new\\bai\\20161027_5_bai.tif\n",
      "File ../Images_new\\bai\\20161027_3_bai.tif\n",
      "File ../Images_new\\bai\\20161027_1_bai.tif\n",
      "File ../Images_new\\bai\\20161027_6_bai.tif\n",
      "File ../Images_new\\bai\\20161027_7_bai.tif\n",
      "File ../Images_new\\bai\\20161027_9_bai.tif\n",
      "File ../Images_new\\bai\\20161027_4_bai.tif\n",
      "File ../Images_new\\bai\\20161027_2_bai.tif\n",
      "File ../Images_new\\bai\\20161027_8_bai.tif\n",
      "mosiac shape:(1, 13887, 13096)\n",
      "#################\n",
      "Writing to ../Images_new/merge\\20161027_bai_merge.tif\n"
     ]
    }
   ],
   "source": [
    "# MERGE SAME DAYS: Iterates through the unique list to select where files contain the same name \n",
    "#   and sets them up to be merged\n",
    "\n",
    "# find all ndvi tifs \n",
    "name_pattern ='ndvi.tif'\n",
    "unique_days = find_unique_days(inpath, name_pattern )\n",
    "bad_patterns = ['*DN_udm.tif','*merge.tif','*MS.tif']\n",
    "\n",
    "# merge by day \n",
    "for unique_day in unique_days:\n",
    "    # get all images for day\n",
    "    a_day_images = list(set(glob(os.path.join(inpath,'**/*'+ unique_day+'*'+name_pattern))))\n",
    "\n",
    "    # remove all unwanted\n",
    "    images_2_remove = [glob(os.path.join(inpath, '**/*'+unique_day+bad)) for bad in bad_patterns]\n",
    "    images_2_remove = list(set(chain(*images_2_remove))) # unlist of lists \n",
    "    a_day_images_filtered = list(set(a_day_images) - set(images_2_remove))\n",
    "    \n",
    "    # merge same days \n",
    "    merge_days(outpath  = \"../Images_new/merge\", \n",
    "               outname =   unique_day + \"_ndvi_merge.tif\",\n",
    "               files_unique = a_day_images_filtered)\n",
    "\n",
    "\n",
    "\n",
    "# find all bai tifs \n",
    "name_pattern ='bai.tif'\n",
    "unique_days = find_unique_days(inpath, name_pattern )\n",
    "bad_patterns = ['*DN_udm.tif','*merge.tif','*MS.tif']\n",
    "\n",
    "# merge by day \n",
    "for unique_day in unique_days:\n",
    "    # get all images for day\n",
    "    a_day_images = list(set(glob(os.path.join(inpath,'**/*'+ unique_day+'*'+name_pattern))))\n",
    "\n",
    "    # remove all unwanted\n",
    "    images_2_remove = [glob(os.path.join(inpath, '**/*'+unique_day+bad)) for bad in bad_patterns]\n",
    "    images_2_remove = list(set(chain(*images_2_remove))) # unlist of lists \n",
    "    a_day_images_filtered = list(set(a_day_images) - set(images_2_remove))\n",
    "    \n",
    "    # merge same days \n",
    "    merge_days(outpath  = \"../Images_new/merge\", \n",
    "               outname =   unique_day + \"_bai_merge.tif\",\n",
    "               files_unique = a_day_images_filtered)"
   ]
  },
  {
   "cell_type": "markdown",
   "metadata": {},
   "source": [
    "### Write Out Multi-Band Reflectance Values\n",
    "It may also be helpful to collect raw reflectance values (not converted to NDVI or BAI) for use to generate training data or for use in training a classifier\n"
   ]
  },
  {
   "cell_type": "code",
   "execution_count": null,
   "metadata": {},
   "outputs": [],
   "source": [
    "# Write out reflectance values\n",
    "inpath = \"../Images_new\"\n",
    "\n",
    "name_pattern ='reflectance.tif'\n",
    "unique_days = find_unique_days(inpath, name_pattern )\n",
    "bad_patterns = ['*DN_udm.tif','*merge.tif','*SR.tif','*aux.xml']\n",
    "\n",
    "\n",
    "# create NDVI and BAI for each day \n",
    "for unique_day in unique_days:\n",
    "    print('unique day:')\n",
    "    print(unique_day)\n",
    "    # get all images for day\n",
    "    a_day_images = list(set(glob(os.path.join(inpath,'**/*'+ unique_day+'*'+name_pattern))))\n",
    "\n",
    "    # remove all unwanted\n",
    "    images_2_remove = [glob(os.path.join(inpath, '**/*'+unique_day+bad)) for bad in bad_patterns]\n",
    "    images_2_remove = list(set(chain(*images_2_remove))) # unlist of lists \n",
    "    a_day_images_filtered = list(set(a_day_images) - set(images_2_remove))\n",
    "\n",
    "    iterator = 0\n",
    "\n",
    "    # store a day of image readers \n",
    "    src_files_to_mosaic = []    \n",
    "\n",
    "    for an_image in a_day_images_filtered:\n",
    "         \n",
    "        src = rasterio.open(an_image)\n",
    "        src_files_to_mosaic.append(src)    \n",
    "    \n",
    "    print('a day')\n",
    "    print(src_files_to_mosaic)\n",
    "    \n",
    "    # merge a days image\n",
    "    mosaic, out_trans = merge(datasets=src_files_to_mosaic )\n",
    "        \n",
    "    # Copy the metadata\n",
    "    out_meta = src.meta.copy()\n",
    "    \n",
    "    # Update the metadata\n",
    "    out_meta.update({\"driver\": \"GTiff\",\n",
    "                      \"height\": mosaic.shape[1],\n",
    "                      \"width\": mosaic.shape[2],\n",
    "                      \"transform\": out_trans,\n",
    "                      #\"crs\": \"+proj=utm +zone=35 +ellps=GRS80 +units=m +no_defs \"\n",
    "                      }\n",
    "                     )\n",
    "    \n",
    "    out_fp = os.path.join(inpath,'multiband_merge','multiband_'+unique_day+'.tif')\n",
    "    \n",
    "    with rasterio.open(out_fp, \"w\", **out_meta) as dest:\n",
    "          dest.write(mosaic)    "
   ]
  },
  {
   "cell_type": "markdown",
   "metadata": {},
   "source": [
    "### Create blank example raster\n",
    "In order to compare images across time we need to generate images with the same dimensions, here of size (15503, 23783). All daily images will then be coerced to this shape."
   ]
  },
  {
   "cell_type": "code",
   "execution_count": 5,
   "metadata": {},
   "outputs": [
    {
     "name": "stdout",
     "output_type": "stream",
     "text": [
      "mosiac shape:(1, 15503, 23783)\n",
      "{'init': 'epsg:32643'}\n"
     ]
    }
   ],
   "source": [
    "#%% Create blank example raster with full extent of all images \n",
    "\n",
    "# Selects the files using a unique identifier and sets up the out paths\n",
    " \n",
    "all_bai = glob(os.path.join(inpath,'**/*ndvi_merge.tif'))\n",
    "outpath = os.path.join(inpath ,'combine', \"all_merge.tif\")\n",
    "\n",
    "merge_all_rast(outpath, file_list=all_bai)\n",
    "\n",
    "\n",
    "#%% Clip merged raster to shapefile to create example raster\n",
    "gdf= gpd.read_file(r\"C:\\Users\\mmann\\Dropbox\\IFPRI_Fire_India\\Shapefiles\\right_cluster.geojson\")\n",
    "gdf = gdf.to_crs({'init': 'epsg:32643'})\n",
    "gdf.to_file(r\"C:\\Users\\mmann\\Dropbox\\IFPRI_Fire_India\\Shapefiles\\right_cluster_projected.geojson\", driver='GeoJSON')\n",
    "\n",
    "with fiona.open(r\"C:\\Users\\mmann\\Dropbox\\IFPRI_Fire_India\\Shapefiles\\right_cluster_projected.geojson\", \"r\") as shapefile:\n",
    "    print(shapefile.crs)\n",
    "    feature = [feature[\"geometry\"] for feature in shapefile]\n",
    "\n",
    "\n",
    "with rasterio.open(os.path.join(inpath ,'combine', \"all_merge.tif\")) as src:\n",
    "    out_image, out_transform = rasterio.mask.mask(src, feature,\n",
    "                                                        crop=True)\n",
    "    out_meta = src.meta.copy()\n",
    "\n",
    "out_meta.update({\"driver\": \"GTiff\",\n",
    "                 \"height\": out_image.shape[1],\n",
    "                 \"width\": out_image.shape[2],\n",
    "                 \"transform\": out_transform})\n",
    "        \n",
    "with rasterio.open(os.path.join(inpath ,'combine', \"all_merge_clip.tif\"), \"w\", **out_meta) as dest:\n",
    "    dest.write(out_image)"
   ]
  },
  {
   "cell_type": "markdown",
   "metadata": {},
   "source": [
    "### Reproject and Resample\n",
    "Make all images the same projection and extent of the empty raster created above."
   ]
  },
  {
   "cell_type": "code",
   "execution_count": 7,
   "metadata": {},
   "outputs": [
    {
     "name": "stdout",
     "output_type": "stream",
     "text": [
      "<osgeo.gdal.Dataset; proxy of <Swig Object of type 'GDALDatasetShadow *' at 0x0000019E27CE5C30> >\n",
      "<osgeo.gdal.Dataset; proxy of <Swig Object of type 'GDALDatasetShadow *' at 0x0000019E2FED9D50> >\n",
      "<osgeo.gdal.Dataset; proxy of <Swig Object of type 'GDALDatasetShadow *' at 0x0000019E2FED9D50> >\n",
      "<osgeo.gdal.Dataset; proxy of <Swig Object of type 'GDALDatasetShadow *' at 0x0000019E27BCE5D0> >\n",
      "<osgeo.gdal.Dataset; proxy of <Swig Object of type 'GDALDatasetShadow *' at 0x0000019E27BCE5D0> >\n",
      "<osgeo.gdal.Dataset; proxy of <Swig Object of type 'GDALDatasetShadow *' at 0x0000019E2FED9E40> >\n",
      "<osgeo.gdal.Dataset; proxy of <Swig Object of type 'GDALDatasetShadow *' at 0x0000019E2FED9D50> >\n",
      "<osgeo.gdal.Dataset; proxy of <Swig Object of type 'GDALDatasetShadow *' at 0x0000019E27BCE5D0> >\n",
      "<osgeo.gdal.Dataset; proxy of <Swig Object of type 'GDALDatasetShadow *' at 0x0000019E27CE5D50> >\n",
      "<osgeo.gdal.Dataset; proxy of <Swig Object of type 'GDALDatasetShadow *' at 0x0000019E27BCE5D0> >\n",
      "<osgeo.gdal.Dataset; proxy of <Swig Object of type 'GDALDatasetShadow *' at 0x0000019E27BCE5D0> >\n",
      "<osgeo.gdal.Dataset; proxy of <Swig Object of type 'GDALDatasetShadow *' at 0x0000019E27BCE5D0> >\n",
      "<osgeo.gdal.Dataset; proxy of <Swig Object of type 'GDALDatasetShadow *' at 0x0000019E27BCE5D0> >\n",
      "<osgeo.gdal.Dataset; proxy of <Swig Object of type 'GDALDatasetShadow *' at 0x0000019E27BCE5D0> >\n",
      "<osgeo.gdal.Dataset; proxy of <Swig Object of type 'GDALDatasetShadow *' at 0x0000019E27CE5AB0> >\n",
      "<osgeo.gdal.Dataset; proxy of <Swig Object of type 'GDALDatasetShadow *' at 0x0000019E27BCE5D0> >\n",
      "<osgeo.gdal.Dataset; proxy of <Swig Object of type 'GDALDatasetShadow *' at 0x0000019E27BCE5D0> >\n",
      "<osgeo.gdal.Dataset; proxy of <Swig Object of type 'GDALDatasetShadow *' at 0x0000019E27BCE5D0> >\n",
      "<osgeo.gdal.Dataset; proxy of <Swig Object of type 'GDALDatasetShadow *' at 0x0000019E2FED9E40> >\n",
      "<osgeo.gdal.Dataset; proxy of <Swig Object of type 'GDALDatasetShadow *' at 0x0000019E2FED9E40> >\n",
      "<osgeo.gdal.Dataset; proxy of <Swig Object of type 'GDALDatasetShadow *' at 0x0000019E27BCE5D0> >\n",
      "<osgeo.gdal.Dataset; proxy of <Swig Object of type 'GDALDatasetShadow *' at 0x0000019E2FED9E40> >\n",
      "<osgeo.gdal.Dataset; proxy of <Swig Object of type 'GDALDatasetShadow *' at 0x0000019E27BCE5D0> >\n",
      "<osgeo.gdal.Dataset; proxy of <Swig Object of type 'GDALDatasetShadow *' at 0x0000019E27BCE5D0> >\n",
      "<osgeo.gdal.Dataset; proxy of <Swig Object of type 'GDALDatasetShadow *' at 0x0000019E2FED9E40> >\n",
      "<osgeo.gdal.Dataset; proxy of <Swig Object of type 'GDALDatasetShadow *' at 0x0000019E2FED9D50> >\n",
      "<osgeo.gdal.Dataset; proxy of <Swig Object of type 'GDALDatasetShadow *' at 0x0000019E2FED9D50> >\n",
      "<osgeo.gdal.Dataset; proxy of <Swig Object of type 'GDALDatasetShadow *' at 0x0000019E27BCE5D0> >\n",
      "<osgeo.gdal.Dataset; proxy of <Swig Object of type 'GDALDatasetShadow *' at 0x0000019E27BCE5D0> >\n",
      "<osgeo.gdal.Dataset; proxy of <Swig Object of type 'GDALDatasetShadow *' at 0x0000019E27BCE5D0> >\n",
      "<osgeo.gdal.Dataset; proxy of <Swig Object of type 'GDALDatasetShadow *' at 0x0000019E27CE5D50> >\n",
      "<osgeo.gdal.Dataset; proxy of <Swig Object of type 'GDALDatasetShadow *' at 0x0000019E2FED9D50> >\n",
      "<osgeo.gdal.Dataset; proxy of <Swig Object of type 'GDALDatasetShadow *' at 0x0000019E2FED9D50> >\n",
      "<osgeo.gdal.Dataset; proxy of <Swig Object of type 'GDALDatasetShadow *' at 0x0000019E27BCE5D0> >\n",
      "<osgeo.gdal.Dataset; proxy of <Swig Object of type 'GDALDatasetShadow *' at 0x0000019E2FED9E40> >\n",
      "<osgeo.gdal.Dataset; proxy of <Swig Object of type 'GDALDatasetShadow *' at 0x0000019E2FED9D50> >\n"
     ]
    }
   ],
   "source": [
    "#%% reproject attempt 2 \n",
    "\n",
    "all_images = glob(os.path.join(inpath,'**/*ndvi_merge.tif'))+glob(os.path.join(inpath,'**/*bai_merge.tif'))\n",
    " \n",
    "for image in all_images:\n",
    "    example_raster = r\"C:\\Users\\mmann\\Dropbox\\IFPRI_Fire_India\\Images_new\\combine\\all_merge_clip.tif\"\n",
    "    out_name = os.path.join(inpath,'reproject', os.path.basename(image) )\n",
    "    reproject_to_match(image, example_raster, out_name)\n",
    "    "
   ]
  },
  {
   "cell_type": "markdown",
   "metadata": {},
   "source": [
    "## Extract Statistics and Classification\n",
    "\n",
    "To create time series statistics we write the data out to csv and then use TS-Raster to calculate statistics (mean daily value etc) in parallel using dask."
   ]
  },
  {
   "cell_type": "code",
   "execution_count": 58,
   "metadata": {},
   "outputs": [
    {
     "name": "stdout",
     "output_type": "stream",
     "text": [
      "df: C:\\Users\\mmann\\Dropbox\\IFPRI_Fire_India\\Images_new\\reproject\\bai\\1\\my_df.csv\n",
      "df: C:\\Users\\mmann\\Dropbox\\IFPRI_Fire_India\\Images_new\\reproject\\bai\\2\\my_df.csv\n",
      "df: C:\\Users\\mmann\\Dropbox\\IFPRI_Fire_India\\Images_new\\reproject\\ndvi\\1\\my_df.csv\n",
      "df: C:\\Users\\mmann\\Dropbox\\IFPRI_Fire_India\\Images_new\\reproject\\ndvi\\2\\my_df.csv\n"
     ]
    }
   ],
   "source": [
    "#directory\n",
    "path = r\"C:\\Users\\mmann\\Dropbox\\IFPRI_Fire_India\\Images_new\\reproject\\bai\\1\"\n",
    "my_df = image_to_series(path)\n",
    "print('df: '+os.path.join(path,'my_df.csv'))\n",
    "my_df.to_csv(os.path.join(path,'my_df.csv'), chunksize=10000, index=False)\n",
    "del my_df\n",
    "\n",
    "path = r\"C:\\Users\\mmann\\Dropbox\\IFPRI_Fire_India\\Images_new\\reproject\\bai\\2\"\n",
    "my_df = image_to_series(path)\n",
    "print('df: '+os.path.join(path,'my_df.csv'))\n",
    "my_df.to_csv(os.path.join(path,'my_df.csv'), chunksize=10000, index=False)\n",
    "del my_df\n",
    "\n",
    "#directory\n",
    "path = r\"C:\\Users\\mmann\\Dropbox\\IFPRI_Fire_India\\Images_new\\reproject\\ndvi\\1\"\n",
    "my_df = image_to_series(path)\n",
    "print('df: '+os.path.join(path,'my_df.csv'))\n",
    "my_df.to_csv(os.path.join(path,'my_df.csv'), chunksize=10000, index=False)\n",
    "del my_df\n",
    "\n",
    "path = r\"C:\\Users\\mmann\\Dropbox\\IFPRI_Fire_India\\Images_new\\reproject\\ndvi\\2\"\n",
    "my_df = image_to_series(path)\n",
    "print('df: '+os.path.join(path,'my_df.csv'))\n",
    "my_df.to_csv(os.path.join(path,'my_df.csv'), chunksize=10000, index=False)\n",
    "del my_df"
   ]
  },
  {
   "cell_type": "markdown",
   "metadata": {},
   "source": [
    "#### Merge peices together\n",
    "NDVI and BAI values are merged into single parquet files."
   ]
  },
  {
   "cell_type": "code",
   "execution_count": 63,
   "metadata": {},
   "outputs": [
    {
     "name": "stderr",
     "output_type": "stream",
     "text": [
      "C:\\Users\\mmann\\AppData\\Local\\Continuum\\anaconda2\\envs\\ts-rasterv3\\lib\\site-packages\\numpy\\lib\\arraysetops.py:569: FutureWarning: elementwise comparison failed; returning scalar instead, but in the future will perform elementwise comparison\n",
      "  mask |= (ar1 == a)\n"
     ]
    }
   ],
   "source": [
    "# Merge my_dfs back together and export to parquet \n",
    "path = r\"C:\\Users\\mmann\\Dropbox\\IFPRI_Fire_India\\Images_new\\reproject\\bai\\1\"\n",
    "my_df = pd.read_csv(os.path.join(path,'my_df.csv'),index_col='pixel_id')\n",
    "# replace missing values\n",
    "my_df.replace(-9999, np.nan, inplace=True)\n",
    "my_df.drop(columns=['kind'],inplace = True)\n",
    "\n",
    "path2 = r\"C:\\Users\\mmann\\Dropbox\\IFPRI_Fire_India\\Images_new\\reproject\\bai\\2\"\n",
    "my_df2 = pd.read_csv(os.path.join(path2,'my_df.csv'),index_col='pixel_id')\n",
    "# replace missing values\n",
    "my_df2.replace(-9999, np.nan, inplace=True)\n",
    "my_df2.drop(columns=['kind'],inplace = True)\n",
    "\n",
    "#merge\n",
    "my_df3 =pd.concat([my_df, my_df2])\n",
    "del my_df2\n",
    "\n",
    "my_df = dd.from_pandas(my_df, npartitions=1200)\n",
    "my_df.to_parquet(os.path.join(r\"C:\\Users\\mmann\\Dropbox\\IFPRI_Fire_India\\Images_new\\reproject\\bai\",\n",
    "                              'my_df_no_missing.parquet') )\n",
    "\n",
    "del my_df"
   ]
  },
  {
   "cell_type": "code",
   "execution_count": 64,
   "metadata": {},
   "outputs": [
    {
     "name": "stderr",
     "output_type": "stream",
     "text": [
      "C:\\Users\\mmann\\AppData\\Local\\Continuum\\anaconda2\\envs\\ts-rasterv3\\lib\\site-packages\\numpy\\lib\\arraysetops.py:569: FutureWarning: elementwise comparison failed; returning scalar instead, but in the future will perform elementwise comparison\n",
      "  mask |= (ar1 == a)\n"
     ]
    }
   ],
   "source": [
    "# Merge my_dfs back together and export to parquet \n",
    "path = r\"C:\\Users\\mmann\\Dropbox\\IFPRI_Fire_India\\Images_new\\reproject\\ndvi\\1\"\n",
    "my_df = pd.read_csv(os.path.join(path,'my_df.csv'),index_col='pixel_id')\n",
    "# replace missing values\n",
    "my_df.replace(-9999, np.nan, inplace=True)\n",
    "my_df.drop(columns=['kind'],inplace = True)\n",
    "\n",
    "path2 = r\"C:\\Users\\mmann\\Dropbox\\IFPRI_Fire_India\\Images_new\\reproject\\ndvi\\2\"\n",
    "my_df2 = pd.read_csv(os.path.join(path2,'my_df.csv'),index_col='pixel_id')\n",
    "# replace missing values\n",
    "my_df2.replace(-9999, np.nan, inplace=True)\n",
    "my_df2.drop(columns=['kind'],inplace = True)\n",
    "\n",
    "#merge\n",
    "my_df =pd.concat([my_df, my_df2])\n",
    "del my_df2\n",
    "\n",
    "my_df = dd.from_pandas(my_df, npartitions=1200)\n",
    "my_df.to_parquet(os.path.join(r\"C:\\Users\\mmann\\Dropbox\\IFPRI_Fire_India\\Images_new\\reproject\\ndvi\",\n",
    "                              'my_df_no_missing.parquet') )\n",
    "\n",
    "del my_df"
   ]
  },
  {
   "cell_type": "markdown",
   "metadata": {},
   "source": [
    "#### Initiate Dask and Extract Statistics\n",
    "Given the extremely large file sizes we utilize Dask to chunk and paralelize the calculation of time series statistics."
   ]
  },
  {
   "cell_type": "markdown",
   "metadata": {},
   "source": [
    "#### Burned Area Index Statistics"
   ]
  },
  {
   "cell_type": "code",
   "execution_count": 25,
   "metadata": {},
   "outputs": [
    {
     "data": {
      "text/html": [
       "<table style=\"border: 2px solid white;\">\n",
       "<tr>\n",
       "<td style=\"vertical-align: top; border: 0px solid white\">\n",
       "<h3>Client</h3>\n",
       "<ul>\n",
       "  <li><b>Scheduler: </b>tcp://127.0.0.1:51160\n",
       "  <li><b>Dashboard: </b><a href='http://127.0.0.1:8787/status' target='_blank'>http://127.0.0.1:8787/status</a>\n",
       "</ul>\n",
       "</td>\n",
       "<td style=\"vertical-align: top; border: 0px solid white\">\n",
       "<h3>Cluster</h3>\n",
       "<ul>\n",
       "  <li><b>Workers: </b>8</li>\n",
       "  <li><b>Cores: </b>16</li>\n",
       "  <li><b>Memory: </b>120.00 GB</li>\n",
       "</ul>\n",
       "</td>\n",
       "</tr>\n",
       "</table>"
      ],
      "text/plain": [
       "<Client: scheduler='tcp://127.0.0.1:51160' processes=8 cores=16>"
      ]
     },
     "execution_count": 25,
     "metadata": {},
     "output_type": "execute_result"
    }
   ],
   "source": [
    "client = Client(n_workers=8, \n",
    "                processes=True, memory_limit='15GB')\n",
    "client"
   ]
  },
  {
   "cell_type": "code",
   "execution_count": 5,
   "metadata": {},
   "outputs": [
    {
     "data": {
      "text/plain": [
       "1200"
      ]
     },
     "execution_count": 5,
     "metadata": {},
     "output_type": "execute_result"
    }
   ],
   "source": [
    "path = r\"C:\\Users\\mmann\\Dropbox\\IFPRI_Fire_India\\Images_new\\reproject\\bai\"\n",
    "df = dd.read_parquet(os.path.join(path,'my_df_no_missing.parquet'), index='pixel_id' )\n",
    "#n = 1e6 # number of kbytes of target partition\n",
    "#df.repartition(npartitions= 1+df.memory_usage(deep=True).sum().compute() // n )\n",
    "df.npartitions"
   ]
  },
  {
   "cell_type": "code",
   "execution_count": 27,
   "metadata": {},
   "outputs": [],
   "source": [
    "bai_features = df.groupby('pixel_id').agg({'value': ['max','mean','min']}).compute()"
   ]
  },
  {
   "cell_type": "code",
   "execution_count": 28,
   "metadata": {},
   "outputs": [
    {
     "data": {
      "text/html": [
       "<div>\n",
       "<style scoped>\n",
       "    .dataframe tbody tr th:only-of-type {\n",
       "        vertical-align: middle;\n",
       "    }\n",
       "\n",
       "    .dataframe tbody tr th {\n",
       "        vertical-align: top;\n",
       "    }\n",
       "\n",
       "    .dataframe thead th {\n",
       "        text-align: right;\n",
       "    }\n",
       "</style>\n",
       "<table border=\"1\" class=\"dataframe\">\n",
       "  <thead>\n",
       "    <tr style=\"text-align: right;\">\n",
       "      <th></th>\n",
       "      <th>value_max</th>\n",
       "      <th>value_mean</th>\n",
       "      <th>value_min</th>\n",
       "    </tr>\n",
       "    <tr>\n",
       "      <th>pixel_id</th>\n",
       "      <th></th>\n",
       "      <th></th>\n",
       "      <th></th>\n",
       "    </tr>\n",
       "  </thead>\n",
       "  <tbody>\n",
       "    <tr>\n",
       "      <th>0</th>\n",
       "      <td>1537.83510</td>\n",
       "      <td>1537.835100</td>\n",
       "      <td>1537.83510</td>\n",
       "    </tr>\n",
       "    <tr>\n",
       "      <th>1</th>\n",
       "      <td>1289.73050</td>\n",
       "      <td>1289.730500</td>\n",
       "      <td>1289.73050</td>\n",
       "    </tr>\n",
       "    <tr>\n",
       "      <th>2</th>\n",
       "      <td>1280.96790</td>\n",
       "      <td>1280.967900</td>\n",
       "      <td>1280.96790</td>\n",
       "    </tr>\n",
       "    <tr>\n",
       "      <th>3</th>\n",
       "      <td>1805.29080</td>\n",
       "      <td>1805.290800</td>\n",
       "      <td>1805.29080</td>\n",
       "    </tr>\n",
       "    <tr>\n",
       "      <th>4</th>\n",
       "      <td>2039.81620</td>\n",
       "      <td>2039.816200</td>\n",
       "      <td>2039.81620</td>\n",
       "    </tr>\n",
       "    <tr>\n",
       "      <th>5</th>\n",
       "      <td>1654.97420</td>\n",
       "      <td>1654.974200</td>\n",
       "      <td>1654.97420</td>\n",
       "    </tr>\n",
       "    <tr>\n",
       "      <th>6</th>\n",
       "      <td>1286.82010</td>\n",
       "      <td>1286.820100</td>\n",
       "      <td>1286.82010</td>\n",
       "    </tr>\n",
       "    <tr>\n",
       "      <th>7</th>\n",
       "      <td>1127.75020</td>\n",
       "      <td>1127.750200</td>\n",
       "      <td>1127.75020</td>\n",
       "    </tr>\n",
       "    <tr>\n",
       "      <th>8</th>\n",
       "      <td>1027.03600</td>\n",
       "      <td>1027.036000</td>\n",
       "      <td>1027.03600</td>\n",
       "    </tr>\n",
       "    <tr>\n",
       "      <th>9</th>\n",
       "      <td>986.55690</td>\n",
       "      <td>986.556900</td>\n",
       "      <td>986.55690</td>\n",
       "    </tr>\n",
       "    <tr>\n",
       "      <th>10</th>\n",
       "      <td>948.42706</td>\n",
       "      <td>948.427060</td>\n",
       "      <td>948.42706</td>\n",
       "    </tr>\n",
       "    <tr>\n",
       "      <th>11</th>\n",
       "      <td>873.58200</td>\n",
       "      <td>873.582000</td>\n",
       "      <td>873.58200</td>\n",
       "    </tr>\n",
       "    <tr>\n",
       "      <th>12</th>\n",
       "      <td>891.86523</td>\n",
       "      <td>891.865230</td>\n",
       "      <td>891.86523</td>\n",
       "    </tr>\n",
       "    <tr>\n",
       "      <th>13</th>\n",
       "      <td>893.55634</td>\n",
       "      <td>893.556340</td>\n",
       "      <td>893.55634</td>\n",
       "    </tr>\n",
       "    <tr>\n",
       "      <th>14</th>\n",
       "      <td>890.18036</td>\n",
       "      <td>890.180360</td>\n",
       "      <td>890.18036</td>\n",
       "    </tr>\n",
       "    <tr>\n",
       "      <th>15</th>\n",
       "      <td>905.52410</td>\n",
       "      <td>905.524100</td>\n",
       "      <td>905.52410</td>\n",
       "    </tr>\n",
       "    <tr>\n",
       "      <th>16</th>\n",
       "      <td>946.58660</td>\n",
       "      <td>946.586600</td>\n",
       "      <td>946.58660</td>\n",
       "    </tr>\n",
       "    <tr>\n",
       "      <th>17</th>\n",
       "      <td>957.75810</td>\n",
       "      <td>957.758100</td>\n",
       "      <td>957.75810</td>\n",
       "    </tr>\n",
       "    <tr>\n",
       "      <th>18</th>\n",
       "      <td>919.49860</td>\n",
       "      <td>919.498600</td>\n",
       "      <td>919.49860</td>\n",
       "    </tr>\n",
       "    <tr>\n",
       "      <th>19</th>\n",
       "      <td>788.69116</td>\n",
       "      <td>788.691160</td>\n",
       "      <td>788.69116</td>\n",
       "    </tr>\n",
       "    <tr>\n",
       "      <th>20</th>\n",
       "      <td>810.17360</td>\n",
       "      <td>810.173600</td>\n",
       "      <td>810.17360</td>\n",
       "    </tr>\n",
       "    <tr>\n",
       "      <th>21</th>\n",
       "      <td>801.47540</td>\n",
       "      <td>801.475400</td>\n",
       "      <td>801.47540</td>\n",
       "    </tr>\n",
       "    <tr>\n",
       "      <th>22</th>\n",
       "      <td>756.05176</td>\n",
       "      <td>756.051760</td>\n",
       "      <td>756.05176</td>\n",
       "    </tr>\n",
       "    <tr>\n",
       "      <th>23</th>\n",
       "      <td>824.98680</td>\n",
       "      <td>824.986800</td>\n",
       "      <td>824.98680</td>\n",
       "    </tr>\n",
       "    <tr>\n",
       "      <th>24</th>\n",
       "      <td>870.32214</td>\n",
       "      <td>870.322140</td>\n",
       "      <td>870.32214</td>\n",
       "    </tr>\n",
       "    <tr>\n",
       "      <th>25</th>\n",
       "      <td>840.21344</td>\n",
       "      <td>840.213440</td>\n",
       "      <td>840.21344</td>\n",
       "    </tr>\n",
       "    <tr>\n",
       "      <th>26</th>\n",
       "      <td>764.02124</td>\n",
       "      <td>764.021240</td>\n",
       "      <td>764.02124</td>\n",
       "    </tr>\n",
       "    <tr>\n",
       "      <th>27</th>\n",
       "      <td>711.97205</td>\n",
       "      <td>711.972050</td>\n",
       "      <td>711.97205</td>\n",
       "    </tr>\n",
       "    <tr>\n",
       "      <th>28</th>\n",
       "      <td>710.77200</td>\n",
       "      <td>710.772000</td>\n",
       "      <td>710.77200</td>\n",
       "    </tr>\n",
       "    <tr>\n",
       "      <th>29</th>\n",
       "      <td>729.13367</td>\n",
       "      <td>729.133670</td>\n",
       "      <td>729.13367</td>\n",
       "    </tr>\n",
       "    <tr>\n",
       "      <th>...</th>\n",
       "      <td>...</td>\n",
       "      <td>...</td>\n",
       "      <td>...</td>\n",
       "    </tr>\n",
       "    <tr>\n",
       "      <th>65834123</th>\n",
       "      <td>50000.00000</td>\n",
       "      <td>31699.615000</td>\n",
       "      <td>14584.76500</td>\n",
       "    </tr>\n",
       "    <tr>\n",
       "      <th>65834124</th>\n",
       "      <td>50000.00000</td>\n",
       "      <td>37703.073333</td>\n",
       "      <td>16333.13400</td>\n",
       "    </tr>\n",
       "    <tr>\n",
       "      <th>65834125</th>\n",
       "      <td>50000.00000</td>\n",
       "      <td>31096.584333</td>\n",
       "      <td>10285.52300</td>\n",
       "    </tr>\n",
       "    <tr>\n",
       "      <th>65834126</th>\n",
       "      <td>50000.00000</td>\n",
       "      <td>29791.864333</td>\n",
       "      <td>10159.92100</td>\n",
       "    </tr>\n",
       "    <tr>\n",
       "      <th>65834127</th>\n",
       "      <td>50000.00000</td>\n",
       "      <td>23220.769667</td>\n",
       "      <td>4711.06700</td>\n",
       "    </tr>\n",
       "    <tr>\n",
       "      <th>65834128</th>\n",
       "      <td>50000.00000</td>\n",
       "      <td>20414.791667</td>\n",
       "      <td>2993.94100</td>\n",
       "    </tr>\n",
       "    <tr>\n",
       "      <th>65834129</th>\n",
       "      <td>31607.02000</td>\n",
       "      <td>14080.274933</td>\n",
       "      <td>3707.78780</td>\n",
       "    </tr>\n",
       "    <tr>\n",
       "      <th>65834130</th>\n",
       "      <td>50000.00000</td>\n",
       "      <td>20401.054900</td>\n",
       "      <td>4790.65200</td>\n",
       "    </tr>\n",
       "    <tr>\n",
       "      <th>65834131</th>\n",
       "      <td>50000.00000</td>\n",
       "      <td>22270.383333</td>\n",
       "      <td>7841.93200</td>\n",
       "    </tr>\n",
       "    <tr>\n",
       "      <th>65834132</th>\n",
       "      <td>50000.00000</td>\n",
       "      <td>24405.274000</td>\n",
       "      <td>11457.91100</td>\n",
       "    </tr>\n",
       "    <tr>\n",
       "      <th>65834133</th>\n",
       "      <td>50000.00000</td>\n",
       "      <td>25104.162667</td>\n",
       "      <td>9396.84300</td>\n",
       "    </tr>\n",
       "    <tr>\n",
       "      <th>65834134</th>\n",
       "      <td>50000.00000</td>\n",
       "      <td>25165.607333</td>\n",
       "      <td>11835.76600</td>\n",
       "    </tr>\n",
       "    <tr>\n",
       "      <th>65834135</th>\n",
       "      <td>50000.00000</td>\n",
       "      <td>23598.578000</td>\n",
       "      <td>10185.80800</td>\n",
       "    </tr>\n",
       "    <tr>\n",
       "      <th>65834136</th>\n",
       "      <td>26968.42000</td>\n",
       "      <td>17533.390667</td>\n",
       "      <td>12709.32600</td>\n",
       "    </tr>\n",
       "    <tr>\n",
       "      <th>65834137</th>\n",
       "      <td>20923.82600</td>\n",
       "      <td>16771.585000</td>\n",
       "      <td>12984.13000</td>\n",
       "    </tr>\n",
       "    <tr>\n",
       "      <th>65834138</th>\n",
       "      <td>27482.58600</td>\n",
       "      <td>21235.878667</td>\n",
       "      <td>12017.77000</td>\n",
       "    </tr>\n",
       "    <tr>\n",
       "      <th>65834139</th>\n",
       "      <td>50000.00000</td>\n",
       "      <td>29898.904333</td>\n",
       "      <td>7930.06300</td>\n",
       "    </tr>\n",
       "    <tr>\n",
       "      <th>65834140</th>\n",
       "      <td>50000.00000</td>\n",
       "      <td>24853.444000</td>\n",
       "      <td>6223.00200</td>\n",
       "    </tr>\n",
       "    <tr>\n",
       "      <th>65834141</th>\n",
       "      <td>50000.00000</td>\n",
       "      <td>26238.561333</td>\n",
       "      <td>7225.51400</td>\n",
       "    </tr>\n",
       "    <tr>\n",
       "      <th>65834142</th>\n",
       "      <td>50000.00000</td>\n",
       "      <td>24072.988667</td>\n",
       "      <td>5812.15900</td>\n",
       "    </tr>\n",
       "    <tr>\n",
       "      <th>65834143</th>\n",
       "      <td>50000.00000</td>\n",
       "      <td>22257.191333</td>\n",
       "      <td>5415.53900</td>\n",
       "    </tr>\n",
       "    <tr>\n",
       "      <th>65834144</th>\n",
       "      <td>50000.00000</td>\n",
       "      <td>22466.209767</td>\n",
       "      <td>4946.88330</td>\n",
       "    </tr>\n",
       "    <tr>\n",
       "      <th>65834145</th>\n",
       "      <td>50000.00000</td>\n",
       "      <td>21344.650500</td>\n",
       "      <td>4423.35350</td>\n",
       "    </tr>\n",
       "    <tr>\n",
       "      <th>65834146</th>\n",
       "      <td>50000.00000</td>\n",
       "      <td>21203.447533</td>\n",
       "      <td>4654.09960</td>\n",
       "    </tr>\n",
       "    <tr>\n",
       "      <th>65834147</th>\n",
       "      <td>50000.00000</td>\n",
       "      <td>21472.638100</td>\n",
       "      <td>4368.34230</td>\n",
       "    </tr>\n",
       "    <tr>\n",
       "      <th>65834148</th>\n",
       "      <td>50000.00000</td>\n",
       "      <td>21123.233000</td>\n",
       "      <td>3916.32400</td>\n",
       "    </tr>\n",
       "    <tr>\n",
       "      <th>65834149</th>\n",
       "      <td>50000.00000</td>\n",
       "      <td>22004.872667</td>\n",
       "      <td>5675.24000</td>\n",
       "    </tr>\n",
       "    <tr>\n",
       "      <th>65834150</th>\n",
       "      <td>50000.00000</td>\n",
       "      <td>22847.688767</td>\n",
       "      <td>7187.02830</td>\n",
       "    </tr>\n",
       "    <tr>\n",
       "      <th>65834151</th>\n",
       "      <td>50000.00000</td>\n",
       "      <td>22774.506833</td>\n",
       "      <td>6254.00000</td>\n",
       "    </tr>\n",
       "    <tr>\n",
       "      <th>65834152</th>\n",
       "      <td>50000.00000</td>\n",
       "      <td>24414.815800</td>\n",
       "      <td>7187.02340</td>\n",
       "    </tr>\n",
       "  </tbody>\n",
       "</table>\n",
       "<p>65834153 rows × 3 columns</p>\n",
       "</div>"
      ],
      "text/plain": [
       "            value_max    value_mean    value_min\n",
       "pixel_id                                        \n",
       "0          1537.83510   1537.835100   1537.83510\n",
       "1          1289.73050   1289.730500   1289.73050\n",
       "2          1280.96790   1280.967900   1280.96790\n",
       "3          1805.29080   1805.290800   1805.29080\n",
       "4          2039.81620   2039.816200   2039.81620\n",
       "5          1654.97420   1654.974200   1654.97420\n",
       "6          1286.82010   1286.820100   1286.82010\n",
       "7          1127.75020   1127.750200   1127.75020\n",
       "8          1027.03600   1027.036000   1027.03600\n",
       "9           986.55690    986.556900    986.55690\n",
       "10          948.42706    948.427060    948.42706\n",
       "11          873.58200    873.582000    873.58200\n",
       "12          891.86523    891.865230    891.86523\n",
       "13          893.55634    893.556340    893.55634\n",
       "14          890.18036    890.180360    890.18036\n",
       "15          905.52410    905.524100    905.52410\n",
       "16          946.58660    946.586600    946.58660\n",
       "17          957.75810    957.758100    957.75810\n",
       "18          919.49860    919.498600    919.49860\n",
       "19          788.69116    788.691160    788.69116\n",
       "20          810.17360    810.173600    810.17360\n",
       "21          801.47540    801.475400    801.47540\n",
       "22          756.05176    756.051760    756.05176\n",
       "23          824.98680    824.986800    824.98680\n",
       "24          870.32214    870.322140    870.32214\n",
       "25          840.21344    840.213440    840.21344\n",
       "26          764.02124    764.021240    764.02124\n",
       "27          711.97205    711.972050    711.97205\n",
       "28          710.77200    710.772000    710.77200\n",
       "29          729.13367    729.133670    729.13367\n",
       "...               ...           ...          ...\n",
       "65834123  50000.00000  31699.615000  14584.76500\n",
       "65834124  50000.00000  37703.073333  16333.13400\n",
       "65834125  50000.00000  31096.584333  10285.52300\n",
       "65834126  50000.00000  29791.864333  10159.92100\n",
       "65834127  50000.00000  23220.769667   4711.06700\n",
       "65834128  50000.00000  20414.791667   2993.94100\n",
       "65834129  31607.02000  14080.274933   3707.78780\n",
       "65834130  50000.00000  20401.054900   4790.65200\n",
       "65834131  50000.00000  22270.383333   7841.93200\n",
       "65834132  50000.00000  24405.274000  11457.91100\n",
       "65834133  50000.00000  25104.162667   9396.84300\n",
       "65834134  50000.00000  25165.607333  11835.76600\n",
       "65834135  50000.00000  23598.578000  10185.80800\n",
       "65834136  26968.42000  17533.390667  12709.32600\n",
       "65834137  20923.82600  16771.585000  12984.13000\n",
       "65834138  27482.58600  21235.878667  12017.77000\n",
       "65834139  50000.00000  29898.904333   7930.06300\n",
       "65834140  50000.00000  24853.444000   6223.00200\n",
       "65834141  50000.00000  26238.561333   7225.51400\n",
       "65834142  50000.00000  24072.988667   5812.15900\n",
       "65834143  50000.00000  22257.191333   5415.53900\n",
       "65834144  50000.00000  22466.209767   4946.88330\n",
       "65834145  50000.00000  21344.650500   4423.35350\n",
       "65834146  50000.00000  21203.447533   4654.09960\n",
       "65834147  50000.00000  21472.638100   4368.34230\n",
       "65834148  50000.00000  21123.233000   3916.32400\n",
       "65834149  50000.00000  22004.872667   5675.24000\n",
       "65834150  50000.00000  22847.688767   7187.02830\n",
       "65834151  50000.00000  22774.506833   6254.00000\n",
       "65834152  50000.00000  24414.815800   7187.02340\n",
       "\n",
       "[65834153 rows x 3 columns]"
      ]
     },
     "execution_count": 28,
     "metadata": {},
     "output_type": "execute_result"
    }
   ],
   "source": [
    "bai_features.columns = [\"_\".join(x) for x in bai_features.columns.ravel()]\n",
    "# note repeated values are pixels where only one daily image was available\n",
    "bai_features"
   ]
  },
  {
   "cell_type": "code",
   "execution_count": 29,
   "metadata": {},
   "outputs": [],
   "source": [
    "bai_features.to_parquet(os.path.join(path,'bai_features.parquet'), compression ='UNCOMPRESSED' )\n"
   ]
  },
  {
   "cell_type": "markdown",
   "metadata": {},
   "source": [
    "Plot out BAI values "
   ]
  },
  {
   "cell_type": "code",
   "execution_count": 30,
   "metadata": {},
   "outputs": [
    {
     "data": {
      "text/plain": [
       "<matplotlib.axes._subplots.AxesSubplot at 0x255d53a7b00>"
      ]
     },
     "execution_count": 30,
     "metadata": {},
     "output_type": "execute_result"
    },
    {
     "data": {
      "image/png": "[encoded data removed]",
      "text/plain": [
       "<Figure size 432x288 with 1 Axes>"
      ]
     },
     "metadata": {
      "needs_background": "light"
     },
     "output_type": "display_data"
    }
   ],
   "source": [
    "path = r\"C:\\Users\\mmann\\Dropbox\\IFPRI_Fire_India\\Images_new\\reproject\\bai\"\n",
    "bai_features = dd.read_parquet(os.path.join(path,'bai_features.parquet'), index='pixel_id' )\n",
    "\n",
    "sb.distplot(bai_features.value_max.values[~np.isnan(bai_features.value_max.values)])"
   ]
  },
  {
   "cell_type": "code",
   "execution_count": 32,
   "metadata": {},
   "outputs": [],
   "source": [
    "client.close()\n",
    "del bai_features"
   ]
  },
  {
   "cell_type": "markdown",
   "metadata": {},
   "source": [
    "#### Normalized Difference Vegetation Index Statistics"
   ]
  },
  {
   "cell_type": "code",
   "execution_count": 3,
   "metadata": {},
   "outputs": [
    {
     "data": {
      "text/html": [
       "<table style=\"border: 2px solid white;\">\n",
       "<tr>\n",
       "<td style=\"vertical-align: top; border: 0px solid white\">\n",
       "<h3>Client</h3>\n",
       "<ul>\n",
       "  <li><b>Scheduler: </b>tcp://127.0.0.1:57346\n",
       "  <li><b>Dashboard: </b><a href='http://127.0.0.1:8787/status' target='_blank'>http://127.0.0.1:8787/status</a>\n",
       "</ul>\n",
       "</td>\n",
       "<td style=\"vertical-align: top; border: 0px solid white\">\n",
       "<h3>Cluster</h3>\n",
       "<ul>\n",
       "  <li><b>Workers: </b>7</li>\n",
       "  <li><b>Cores: </b>14</li>\n",
       "  <li><b>Memory: </b>105.00 GB</li>\n",
       "</ul>\n",
       "</td>\n",
       "</tr>\n",
       "</table>"
      ],
      "text/plain": [
       "<Client: scheduler='tcp://127.0.0.1:57346' processes=7 cores=14>"
      ]
     },
     "execution_count": 3,
     "metadata": {},
     "output_type": "execute_result"
    }
   ],
   "source": [
    "client = Client(n_workers=7, \n",
    "                processes=True, memory_limit='15GB')\n",
    "client"
   ]
  },
  {
   "cell_type": "code",
   "execution_count": 4,
   "metadata": {},
   "outputs": [],
   "source": [
    "path = r\"C:\\Users\\mmann\\Dropbox\\IFPRI_Fire_India\\Images_new\\reproject\\ndvi\"\n",
    "df = dd.read_parquet(os.path.join(path,'my_df_no_missing.parquet'), index='pixel_id' )\n",
    "ndvi_features = df.groupby('pixel_id').agg({'value': ['max','mean','min']}).compute()\n",
    "ndvi_features.columns = [\"_\".join(x) for x in ndvi_features.columns.ravel()]\n",
    "\n",
    "ndvi_features.to_parquet(os.path.join(path,'ndvi_features.parquet'), compression ='UNCOMPRESSED' )\n",
    "client.close()"
   ]
  },
  {
   "cell_type": "code",
   "execution_count": null,
   "metadata": {},
   "outputs": [],
   "source": []
  },
  {
   "cell_type": "code",
   "execution_count": 5,
   "metadata": {},
   "outputs": [
    {
     "data": {
      "text/plain": [
       "<matplotlib.axes._subplots.AxesSubplot at 0x249c14d06a0>"
      ]
     },
     "execution_count": 5,
     "metadata": {},
     "output_type": "execute_result"
    },
    {
     "data": {
      "image/png": "[encoded data removed]",
      "text/plain": [
       "<Figure size 432x288 with 1 Axes>"
      ]
     },
     "metadata": {
      "needs_background": "light"
     },
     "output_type": "display_data"
    },
    {
     "name": "stderr",
     "output_type": "stream",
     "text": [
      "Future exception was never retrieved\n",
      "future: <Future finished exception=TimeoutError('Timeout',)>\n",
      "tornado.util.TimeoutError: Timeout\n"
     ]
    }
   ],
   "source": [
    "sb.distplot(ndvi_features.value_max.values)\n"
   ]
  },
  {
   "cell_type": "markdown",
   "metadata": {},
   "source": [
    "#### Combine BAI and NDVI features \n",
    "Combine features to a single file."
   ]
  },
  {
   "cell_type": "code",
   "execution_count": 8,
   "metadata": {},
   "outputs": [],
   "source": [
    "path = r\"C:\\Users\\mmann\\Dropbox\\IFPRI_Fire_India\\Images_new\\reproject\"\n",
    "bai_features =  dd.read_parquet(os.path.join(path,'bai','bai_features.parquet'), index='pixel_id' )\n",
    "bai_features.columns = ['bai_max', \"bai_mean\", 'bai_min']\n",
    "ndvi_features =  dd.read_parquet(os.path.join(path,'ndvi','ndvi_features.parquet'), index='pixel_id' )\n",
    "ndvi_features.columns = ['ndvi_max', \"ndvi_mean\", 'ndvi_min']\n"
   ]
  },
  {
   "cell_type": "code",
   "execution_count": 9,
   "metadata": {},
   "outputs": [
    {
     "data": {
      "text/html": [
       "<div><strong>Dask DataFrame Structure:</strong></div>\n",
       "<div>\n",
       "<style scoped>\n",
       "    .dataframe tbody tr th:only-of-type {\n",
       "        vertical-align: middle;\n",
       "    }\n",
       "\n",
       "    .dataframe tbody tr th {\n",
       "        vertical-align: top;\n",
       "    }\n",
       "\n",
       "    .dataframe thead th {\n",
       "        text-align: right;\n",
       "    }\n",
       "</style>\n",
       "<table border=\"1\" class=\"dataframe\">\n",
       "  <thead>\n",
       "    <tr style=\"text-align: right;\">\n",
       "      <th></th>\n",
       "      <th>bai_max</th>\n",
       "      <th>bai_mean</th>\n",
       "      <th>bai_min</th>\n",
       "    </tr>\n",
       "    <tr>\n",
       "      <th>npartitions=2</th>\n",
       "      <th></th>\n",
       "      <th></th>\n",
       "      <th></th>\n",
       "    </tr>\n",
       "  </thead>\n",
       "  <tbody>\n",
       "    <tr>\n",
       "      <th>0</th>\n",
       "      <td>float64</td>\n",
       "      <td>float64</td>\n",
       "      <td>float64</td>\n",
       "    </tr>\n",
       "    <tr>\n",
       "      <th>32917077</th>\n",
       "      <td>...</td>\n",
       "      <td>...</td>\n",
       "      <td>...</td>\n",
       "    </tr>\n",
       "    <tr>\n",
       "      <th>65834152</th>\n",
       "      <td>...</td>\n",
       "      <td>...</td>\n",
       "      <td>...</td>\n",
       "    </tr>\n",
       "  </tbody>\n",
       "</table>\n",
       "</div>\n",
       "<div>Dask Name: rename, 2 tasks</div>"
      ],
      "text/plain": [
       "Dask DataFrame Structure:\n",
       "               bai_max bai_mean  bai_min\n",
       "npartitions=2                           \n",
       "0              float64  float64  float64\n",
       "32917077           ...      ...      ...\n",
       "65834152           ...      ...      ...\n",
       "Dask Name: rename, 2 tasks"
      ]
     },
     "execution_count": 9,
     "metadata": {},
     "output_type": "execute_result"
    }
   ],
   "source": [
    "ndvi_features.persist()\n",
    "bai_features.persist()\n"
   ]
  },
  {
   "cell_type": "code",
   "execution_count": 10,
   "metadata": {},
   "outputs": [],
   "source": [
    "combined_features = dd.concat([bai_features, ndvi_features], axis=1).compute()\n"
   ]
  },
  {
   "cell_type": "code",
   "execution_count": 11,
   "metadata": {
    "scrolled": true
   },
   "outputs": [
    {
     "name": "stdout",
     "output_type": "stream",
     "text": [
      "            bai_max   bai_mean    bai_min  ndvi_max  ndvi_mean  ndvi_min\n",
      "pixel_id                                                                \n",
      "0         1537.8351  1537.8351  1537.8351  0.485552   0.385334  0.285117\n",
      "1         1289.7305  1289.7305  1289.7305  0.476450   0.376513  0.276576\n",
      "2         1280.9679  1280.9679  1280.9679  0.468452   0.358194  0.247936\n",
      "3         1805.2908  1805.2908  1805.2908  0.463188   0.330371  0.197555\n",
      "4         2039.8162  2039.8162  2039.8162  0.483314   0.326562  0.169810\n"
     ]
    }
   ],
   "source": [
    "combined_features.fillna(combined_features.mean(), inplace=True)\n",
    "print(combined_features.head())"
   ]
  },
  {
   "cell_type": "markdown",
   "metadata": {},
   "source": [
    " #### Convert files back to raster format"
   ]
  },
  {
   "cell_type": "code",
   "execution_count": 46,
   "metadata": {},
   "outputs": [
    {
     "name": "stdout",
     "output_type": "stream",
     "text": [
      "bai_max\n",
      "bai_mean\n",
      "bai_min\n",
      "ndvi_max\n",
      "ndvi_mean\n",
      "ndvi_min\n"
     ]
    },
    {
     "data": {
      "image/png": "[encoded data removed]",
      "text/plain": [
       "<Figure size 432x288 with 1 Axes>"
      ]
     },
     "metadata": {
      "needs_background": "light"
     },
     "output_type": "display_data"
    }
   ],
   "source": [
    "# convert TS features  back to raster \n",
    "example_raster = r\"C:\\Users\\mmann\\Dropbox\\IFPRI_Fire_India\\Images_new\\combine\\all_merge_clip.tif\"\n",
    "ex_row, ex_cols =  rasterio.open(example_raster).shape\n",
    "\n",
    "for column in combined_features.columns:\n",
    "    print(column)\n",
    "    f2Array =  combined_features[column].values.reshape(ex_row, ex_cols)\n",
    "    plt.imshow(f2Array)\n",
    "\n",
    "    output_raster = r'C:\\Users\\mmann\\Dropbox\\IFPRI_Fire_India\\Images_new\\ts_features\\\\'+column+'.tif' \n",
    "\n",
    "    with rasterio.open(example_raster) as src_dataset:\n",
    "\n",
    "        kwds = src_dataset.profile\n",
    "        kwds.update({\n",
    "                'dtype': 'float32',\n",
    "                'nodata': -9999\n",
    "                })  \n",
    "\n",
    "        with rasterio.open(output_raster, 'w', **kwds) as dst_dataset:\n",
    "            # Write data to the destination dataset.\n",
    "            dst_dataset.write_band(1, np.float32(f2Array))"
   ]
  },
  {
   "cell_type": "markdown",
   "metadata": {},
   "source": [
    "## Example supervised classification\n",
    " "
   ]
  },
  {
   "cell_type": "markdown",
   "metadata": {},
   "source": [
    "### Read in training data\n",
    "Here we will focus on multiclass_points_new which contains training data points generated by looking at false composite (4,3,2) images to classify urban, water, harvested and unburnt, burnt, and standing vegetation."
   ]
  },
  {
   "cell_type": "code",
   "execution_count": 30,
   "metadata": {},
   "outputs": [
    {
     "data": {
      "text/html": [
       "<div>\n",
       "<style scoped>\n",
       "    .dataframe tbody tr th:only-of-type {\n",
       "        vertical-align: middle;\n",
       "    }\n",
       "\n",
       "    .dataframe tbody tr th {\n",
       "        vertical-align: top;\n",
       "    }\n",
       "\n",
       "    .dataframe thead th {\n",
       "        text-align: right;\n",
       "    }\n",
       "</style>\n",
       "<table border=\"1\" class=\"dataframe\">\n",
       "  <thead>\n",
       "    <tr style=\"text-align: right;\">\n",
       "      <th></th>\n",
       "      <th>Id</th>\n",
       "      <th>Burned</th>\n",
       "      <th>geometry</th>\n",
       "    </tr>\n",
       "  </thead>\n",
       "  <tbody>\n",
       "    <tr>\n",
       "      <th>0</th>\n",
       "      <td>0</td>\n",
       "      <td>burned</td>\n",
       "      <td>POINT (727293.1294438748 3344400.528301735)</td>\n",
       "    </tr>\n",
       "    <tr>\n",
       "      <th>1</th>\n",
       "      <td>0</td>\n",
       "      <td>burned</td>\n",
       "      <td>POINT (727349.3535146562 3344536.127531266)</td>\n",
       "    </tr>\n",
       "    <tr>\n",
       "      <th>2</th>\n",
       "      <td>0</td>\n",
       "      <td>burned</td>\n",
       "      <td>POINT (727531.2549201257 3345045.451466581)</td>\n",
       "    </tr>\n",
       "    <tr>\n",
       "      <th>3</th>\n",
       "      <td>0</td>\n",
       "      <td>burned</td>\n",
       "      <td>POINT (724667.1346085519 3344860.24276283)</td>\n",
       "    </tr>\n",
       "    <tr>\n",
       "      <th>4</th>\n",
       "      <td>0</td>\n",
       "      <td>burned</td>\n",
       "      <td>POINT (724663.8273102705 3344916.466833612)</td>\n",
       "    </tr>\n",
       "  </tbody>\n",
       "</table>\n",
       "</div>"
      ],
      "text/plain": [
       "   Id  Burned                                     geometry\n",
       "0   0  burned  POINT (727293.1294438748 3344400.528301735)\n",
       "1   0  burned  POINT (727349.3535146562 3344536.127531266)\n",
       "2   0  burned  POINT (727531.2549201257 3345045.451466581)\n",
       "3   0  burned   POINT (724667.1346085519 3344860.24276283)\n",
       "4   0  burned  POINT (724663.8273102705 3344916.466833612)"
      ]
     },
     "execution_count": 30,
     "metadata": {},
     "output_type": "execute_result"
    }
   ],
   "source": [
    "burn_points = gpd.read_file(r\"C:\\Users\\mmann\\Dropbox\\IFPRI_Fire_India\\Shapefiles\\burnt_unburnt.shp\")\n",
    "right_cluster = gpd.read_file(r\"C:\\Users\\mmann\\Dropbox\\IFPRI_Fire_India\\Shapefiles\\right_cluster.shp\")\n",
    "burn_points_new = gpd.read_file(r\"C:\\Users\\mmann\\Dropbox\\IFPRI_Fire_India\\Shapefiles\\New_burned_training.shp\")\n",
    "multiclass_points_new = gpd.read_file(r\"C:\\Users\\mmann\\Dropbox\\IFPRI_Fire_India\\Shapefiles\\new_multiclass_burned.shp\")\n",
    "\n",
    "\n",
    "output_raster = r'C:\\Users\\mmann\\Dropbox\\IFPRI_Fire_India\\Images_new\\classifications\\knn_scaled.tif'\n",
    "example_raster = r'C:\\Users\\mmann\\Dropbox\\IFPRI_Fire_India\\Images_new\\ts_features\\bai_max.tif'\n",
    "\n",
    "# reproject\n",
    "burn_points = burn_points_new.to_crs(rasterio.open(output_raster).crs)\n",
    "burn_points.head()"
   ]
  },
  {
   "cell_type": "markdown",
   "metadata": {},
   "source": [
    "Limit points to bounds of image"
   ]
  },
  {
   "cell_type": "code",
   "execution_count": 31,
   "metadata": {},
   "outputs": [
    {
     "name": "stdout",
     "output_type": "stream",
     "text": [
      "BoundingBox(left=703764.0, bottom=3333195.0, right=735873.0, top=3351648.0)\n",
      "(314, 4)\n"
     ]
    }
   ],
   "source": [
    "with rasterio.open(example_raster) as src_dataset:\n",
    "    print(src_dataset.bounds)\n",
    "    df = gpd.GeoDataFrame(gpd.GeoSeries(src_dataset.bounds), \n",
    "                          columns=['geometry'])\n",
    "df\n",
    "\n",
    "# limit multiclass_points_new to right cluster of points (clipping)\n",
    "xmin, ymin, xmax, ymax = df.geometry\n",
    "multiclass_points_new = multiclass_points_new.cx[xmin:xmax, ymin:ymax]\n",
    "multiclass_points_new.reset_index(inplace=True)  # reset index\n",
    "print(multiclass_points_new.shape)\n",
    "multiclass_points_new.index\n",
    "\n",
    "# remove \n",
    "multiclass_points_new.Class[multiclass_points_new.Class == 'uarban'] = 'urban'"
   ]
  },
  {
   "cell_type": "markdown",
   "metadata": {},
   "source": [
    "Extract values to new training points"
   ]
  },
  {
   "cell_type": "code",
   "execution_count": 32,
   "metadata": {},
   "outputs": [
    {
     "name": "stdout",
     "output_type": "stream",
     "text": [
      "['bai_max', 'bai_mean', 'bai_min', 'ndvi_max', 'ndvi_mean', 'ndvi_min']\n"
     ]
    }
   ],
   "source": [
    "features = []\n",
    "names = []\n",
    "for feature in glob(r'C:\\Users\\mmann\\Dropbox\\IFPRI_Fire_India\\Images_new\\ts_features\\*.tif'): \n",
    "    feature_value = point_query(multiclass_points_new, \n",
    "                               raster=feature,\n",
    "                               interpolate='nearest')\n",
    "    names.append(os.path.basename(os.path.splitext(feature)[0]))\n",
    "    features.append(feature_value)\n",
    "    \n",
    "print(names)\n",
    "features = list(zip(*features)) # transpose\n",
    " "
   ]
  },
  {
   "cell_type": "code",
   "execution_count": 35,
   "metadata": {},
   "outputs": [
    {
     "data": {
      "text/html": [
       "<div>\n",
       "<style scoped>\n",
       "    .dataframe tbody tr th:only-of-type {\n",
       "        vertical-align: middle;\n",
       "    }\n",
       "\n",
       "    .dataframe tbody tr th {\n",
       "        vertical-align: top;\n",
       "    }\n",
       "\n",
       "    .dataframe thead th {\n",
       "        text-align: right;\n",
       "    }\n",
       "</style>\n",
       "<table border=\"1\" class=\"dataframe\">\n",
       "  <thead>\n",
       "    <tr style=\"text-align: right;\">\n",
       "      <th></th>\n",
       "      <th>bai_max</th>\n",
       "      <th>bai_mean</th>\n",
       "      <th>bai_min</th>\n",
       "      <th>ndvi_max</th>\n",
       "      <th>ndvi_mean</th>\n",
       "      <th>ndvi_min</th>\n",
       "    </tr>\n",
       "  </thead>\n",
       "  <tbody>\n",
       "    <tr>\n",
       "      <th>0</th>\n",
       "      <td>29793.279297</td>\n",
       "      <td>15123.362305</td>\n",
       "      <td>453.443970</td>\n",
       "      <td>0.197807</td>\n",
       "      <td>0.118965</td>\n",
       "      <td>0.059763</td>\n",
       "    </tr>\n",
       "    <tr>\n",
       "      <th>1</th>\n",
       "      <td>989.442078</td>\n",
       "      <td>844.564880</td>\n",
       "      <td>699.687622</td>\n",
       "      <td>0.608914</td>\n",
       "      <td>0.256019</td>\n",
       "      <td>0.069585</td>\n",
       "    </tr>\n",
       "    <tr>\n",
       "      <th>2</th>\n",
       "      <td>4994.685547</td>\n",
       "      <td>3030.702881</td>\n",
       "      <td>1066.720215</td>\n",
       "      <td>0.604659</td>\n",
       "      <td>0.262779</td>\n",
       "      <td>0.075207</td>\n",
       "    </tr>\n",
       "    <tr>\n",
       "      <th>3</th>\n",
       "      <td>4317.822266</td>\n",
       "      <td>2763.947998</td>\n",
       "      <td>1210.073730</td>\n",
       "      <td>0.592439</td>\n",
       "      <td>0.303330</td>\n",
       "      <td>0.126570</td>\n",
       "    </tr>\n",
       "    <tr>\n",
       "      <th>4</th>\n",
       "      <td>1148.458374</td>\n",
       "      <td>1076.019287</td>\n",
       "      <td>1003.580078</td>\n",
       "      <td>0.577924</td>\n",
       "      <td>0.294668</td>\n",
       "      <td>0.138086</td>\n",
       "    </tr>\n",
       "  </tbody>\n",
       "</table>\n",
       "</div>"
      ],
      "text/plain": [
       "        bai_max      bai_mean      bai_min  ndvi_max  ndvi_mean  ndvi_min\n",
       "0  29793.279297  15123.362305   453.443970  0.197807   0.118965  0.059763\n",
       "1    989.442078    844.564880   699.687622  0.608914   0.256019  0.069585\n",
       "2   4994.685547   3030.702881  1066.720215  0.604659   0.262779  0.075207\n",
       "3   4317.822266   2763.947998  1210.073730  0.592439   0.303330  0.126570\n",
       "4   1148.458374   1076.019287  1003.580078  0.577924   0.294668  0.138086"
      ]
     },
     "execution_count": 35,
     "metadata": {},
     "output_type": "execute_result"
    }
   ],
   "source": [
    "# check time series feature values for points\n",
    "point_features = pd.DataFrame( features , columns=names)\n",
    "point_features.head()"
   ]
  },
  {
   "cell_type": "code",
   "execution_count": 36,
   "metadata": {},
   "outputs": [
    {
     "data": {
      "text/plain": [
       "burned       102\n",
       "unharvest     80\n",
       "harvest       64\n",
       "urban         40\n",
       "water         28\n",
       "Name: Class, dtype: int64"
      ]
     },
     "execution_count": 36,
     "metadata": {},
     "output_type": "execute_result"
    }
   ],
   "source": [
    "# check dependent value classifications for points\n",
    "multiclass_points_new['Class'].value_counts()"
   ]
  },
  {
   "cell_type": "markdown",
   "metadata": {},
   "source": [
    "  ### Model Training\n",
    "  Create testing training split stratified by y classes. "
   ]
  },
  {
   "cell_type": "code",
   "execution_count": 50,
   "metadata": {},
   "outputs": [],
   "source": [
    "from sklearn.model_selection import train_test_split as tts\n",
    "y = multiclass_points_new.iloc[:,2]\n",
    "X = point_features.iloc[:,:]\n",
    "X_train, X_test, y_train, y_test = tts(X, y,\n",
    "                                           test_size=0.8,\n",
    "                                           stratify=y,\n",
    "                                           random_state=42)"
   ]
  },
  {
   "cell_type": "markdown",
   "metadata": {},
   "source": [
    "Create parameter search grid for randomized search cross-validation for random forest"
   ]
  },
  {
   "cell_type": "code",
   "execution_count": 51,
   "metadata": {},
   "outputs": [
    {
     "name": "stdout",
     "output_type": "stream",
     "text": [
      "{'n_estimators': [200, 400, 600, 800, 1000, 1200, 1400, 1600, 1800, 2000], 'max_features': ['auto', 'sqrt'], 'max_depth': [10, 20, 30, 40, 50, 60, 70, 80, 90, 100, 110, None], 'min_samples_split': [2, 5, 10], 'min_samples_leaf': [1, 2, 4], 'bootstrap': [True, False]}\n"
     ]
    }
   ],
   "source": [
    "from sklearn.model_selection import RandomizedSearchCV# Number of trees in random forest\n",
    "n_estimators = [int(x) for x in np.linspace(start = 200, stop = 2000, num = 10)]\n",
    "# Number of features to consider at every split\n",
    "max_features = ['auto', 'sqrt']\n",
    "# Maximum number of levels in tree\n",
    "max_depth = [int(x) for x in np.linspace(10, 110, num = 11)]\n",
    "max_depth.append(None)\n",
    "# Minimum number of samples required to split a node\n",
    "min_samples_split = [2, 5, 10]\n",
    "# Minimum number of samples required at each leaf node\n",
    "min_samples_leaf = [1, 2, 4]\n",
    "# Method of selecting samples for training each tree\n",
    "bootstrap = [True, False]# Create the random grid\n",
    "random_grid = {'n_estimators': n_estimators,\n",
    "               'max_features': max_features,\n",
    "               'max_depth': max_depth,\n",
    "               'min_samples_split': min_samples_split,\n",
    "               'min_samples_leaf': min_samples_leaf,\n",
    "               'bootstrap': bootstrap}\n",
    "print(random_grid) "
   ]
  },
  {
   "cell_type": "markdown",
   "metadata": {},
   "source": [
    "Fit random forest model"
   ]
  },
  {
   "cell_type": "code",
   "execution_count": 52,
   "metadata": {
    "scrolled": true
   },
   "outputs": [
    {
     "name": "stdout",
     "output_type": "stream",
     "text": [
      "Fitting 3 folds for each of 100 candidates, totalling 300 fits\n"
     ]
    },
    {
     "name": "stderr",
     "output_type": "stream",
     "text": [
      "[Parallel(n_jobs=-1)]: Using backend LokyBackend with 12 concurrent workers.\n",
      "[Parallel(n_jobs=-1)]: Done  17 tasks      | elapsed:    3.6s\n",
      "[Parallel(n_jobs=-1)]: Done 138 tasks      | elapsed:   13.4s\n",
      "[Parallel(n_jobs=-1)]: Done 300 out of 300 | elapsed:   26.0s finished\n",
      "C:\\Users\\mmann\\AppData\\Local\\Continuum\\anaconda2\\envs\\ts-rasterv3\\lib\\site-packages\\sklearn\\model_selection\\_search.py:814: DeprecationWarning: The default of the `iid` parameter will change from True to False in version 0.22 and will be removed in 0.24. This will change numeric results when test-set sizes are unequal.\n",
      "  DeprecationWarning)\n"
     ]
    },
    {
     "data": {
      "text/plain": [
       "RandomizedSearchCV(cv=3, error_score='raise-deprecating',\n",
       "                   estimator=RandomForestClassifier(bootstrap=True,\n",
       "                                                    class_weight=None,\n",
       "                                                    criterion='gini',\n",
       "                                                    max_depth=None,\n",
       "                                                    max_features='auto',\n",
       "                                                    max_leaf_nodes=None,\n",
       "                                                    min_impurity_decrease=0.0,\n",
       "                                                    min_impurity_split=None,\n",
       "                                                    min_samples_leaf=1,\n",
       "                                                    min_samples_split=2,\n",
       "                                                    min_weight_fraction_leaf=0.0,\n",
       "                                                    n_estimators='warn',\n",
       "                                                    n_jobs=None,\n",
       "                                                    oob_sc...\n",
       "                   param_distributions={'bootstrap': [True, False],\n",
       "                                        'max_depth': [10, 20, 30, 40, 50, 60,\n",
       "                                                      70, 80, 90, 100, 110,\n",
       "                                                      None],\n",
       "                                        'max_features': ['auto', 'sqrt'],\n",
       "                                        'min_samples_leaf': [1, 2, 4],\n",
       "                                        'min_samples_split': [2, 5, 10],\n",
       "                                        'n_estimators': [200, 400, 600, 800,\n",
       "                                                         1000, 1200, 1400, 1600,\n",
       "                                                         1800, 2000]},\n",
       "                   pre_dispatch='2*n_jobs', random_state=42, refit=True,\n",
       "                   return_train_score=False, scoring=None, verbose=2)"
      ]
     },
     "execution_count": 52,
     "metadata": {},
     "output_type": "execute_result"
    }
   ],
   "source": [
    "# Use the random grid to search for best hyperparameters\n",
    "# First create the base model to tune\n",
    "rf = RandomForestClassifier()\n",
    "# Random search of parameters, using 3 fold cross validation, \n",
    "# search across 100 different combinations, and use all available cores\n",
    "rf_random = RandomizedSearchCV(estimator = rf, param_distributions = random_grid, n_iter = 100, cv = 3, verbose=2, random_state=42, n_jobs = -1)# Fit the random search model\n",
    "rf_random.fit(X_train,  y_train)"
   ]
  },
  {
   "cell_type": "markdown",
   "metadata": {},
   "source": [
    "#### Measure out of sample performance\n"
   ]
  },
  {
   "cell_type": "code",
   "execution_count": 53,
   "metadata": {},
   "outputs": [
    {
     "name": "stdout",
     "output_type": "stream",
     "text": [
      "Testing accuracy: 0.7896825396825397\n",
      "Testing Kappa:  0.7220395421436004\n",
      "Testing Conf: \n"
     ]
    },
    {
     "data": {
      "text/html": [
       "<div>\n",
       "<style scoped>\n",
       "    .dataframe tbody tr th:only-of-type {\n",
       "        vertical-align: middle;\n",
       "    }\n",
       "\n",
       "    .dataframe tbody tr th {\n",
       "        vertical-align: top;\n",
       "    }\n",
       "\n",
       "    .dataframe thead th {\n",
       "        text-align: right;\n",
       "    }\n",
       "</style>\n",
       "<table border=\"1\" class=\"dataframe\">\n",
       "  <thead>\n",
       "    <tr style=\"text-align: right;\">\n",
       "      <th></th>\n",
       "      <th>burned</th>\n",
       "      <th>harvest</th>\n",
       "      <th>unharvest</th>\n",
       "      <th>urban</th>\n",
       "      <th>water</th>\n",
       "    </tr>\n",
       "  </thead>\n",
       "  <tbody>\n",
       "    <tr>\n",
       "      <th>burned</th>\n",
       "      <td>65</td>\n",
       "      <td>10</td>\n",
       "      <td>6</td>\n",
       "      <td>1</td>\n",
       "      <td>0</td>\n",
       "    </tr>\n",
       "    <tr>\n",
       "      <th>harvest</th>\n",
       "      <td>23</td>\n",
       "      <td>27</td>\n",
       "      <td>1</td>\n",
       "      <td>0</td>\n",
       "      <td>0</td>\n",
       "    </tr>\n",
       "    <tr>\n",
       "      <th>unharvest</th>\n",
       "      <td>3</td>\n",
       "      <td>0</td>\n",
       "      <td>61</td>\n",
       "      <td>0</td>\n",
       "      <td>0</td>\n",
       "    </tr>\n",
       "    <tr>\n",
       "      <th>urban</th>\n",
       "      <td>1</td>\n",
       "      <td>0</td>\n",
       "      <td>0</td>\n",
       "      <td>28</td>\n",
       "      <td>3</td>\n",
       "    </tr>\n",
       "    <tr>\n",
       "      <th>water</th>\n",
       "      <td>2</td>\n",
       "      <td>0</td>\n",
       "      <td>0</td>\n",
       "      <td>3</td>\n",
       "      <td>18</td>\n",
       "    </tr>\n",
       "  </tbody>\n",
       "</table>\n",
       "</div>"
      ],
      "text/plain": [
       "           burned  harvest  unharvest  urban  water\n",
       "burned         65       10          6      1      0\n",
       "harvest        23       27          1      0      0\n",
       "unharvest       3        0         61      0      0\n",
       "urban           1        0          0     28      3\n",
       "water           2        0          0      3     18"
      ]
     },
     "execution_count": 53,
     "metadata": {},
     "output_type": "execute_result"
    }
   ],
   "source": [
    "predict_test = rf_random.predict(X=X_test)\n",
    "\n",
    "test_acc = accuracy_score(y_test, predict_test)\n",
    "kappa = cohen_kappa_score(y_test, predict_test)\n",
    "confusion = confusion_matrix(y_test, predict_test)\n",
    "\n",
    "print('Testing accuracy:',test_acc)\n",
    "print('Testing Kappa: ',kappa)\n",
    "print('Testing Conf: ')\n",
    "pd.DataFrame(confusion,columns= list(rf_random.classes_),index=list(rf_random.classes_))"
   ]
  },
  {
   "cell_type": "code",
   "execution_count": 54,
   "metadata": {},
   "outputs": [
    {
     "data": {
      "text/plain": [
       "(5, -0.5)"
      ]
     },
     "execution_count": 54,
     "metadata": {},
     "output_type": "execute_result"
    },
    {
     "data": {
      "image/png": "[encoded data removed]",
      "text/plain": [
       "<Figure size 432x288 with 2 Axes>"
      ]
     },
     "metadata": {
      "needs_background": "light"
     },
     "output_type": "display_data"
    }
   ],
   "source": [
    "import seaborn as sns\n",
    "import matplotlib.pyplot as plt     \n",
    "\n",
    "ax= plt.subplot()\n",
    "sns.heatmap(confusion, annot=True, cmap='Greens',ax = ax); #annot=True to annotate cells\n",
    "\n",
    "# labels, title and ticks\n",
    "ax.set_xlabel('Predicted labels');\n",
    "ax.set_ylabel('True labels'); \n",
    "ax.set_title('Confusion Matrix'); \n",
    "ax.xaxis.set_ticklabels(list(rf_random.classes_)); ax.yaxis.set_ticklabels(list(rf_random.classes_),rotation=0);\n",
    "ax.set_ylim(len(list(rf_random.classes_)),-0.5,-1)"
   ]
  },
  {
   "cell_type": "code",
   "execution_count": 55,
   "metadata": {},
   "outputs": [
    {
     "data": {
      "text/html": [
       "<div>\n",
       "<style scoped>\n",
       "    .dataframe tbody tr th:only-of-type {\n",
       "        vertical-align: middle;\n",
       "    }\n",
       "\n",
       "    .dataframe tbody tr th {\n",
       "        vertical-align: top;\n",
       "    }\n",
       "\n",
       "    .dataframe thead th {\n",
       "        text-align: right;\n",
       "    }\n",
       "</style>\n",
       "<table border=\"1\" class=\"dataframe\">\n",
       "  <thead>\n",
       "    <tr style=\"text-align: right;\">\n",
       "      <th></th>\n",
       "      <th>importance</th>\n",
       "    </tr>\n",
       "  </thead>\n",
       "  <tbody>\n",
       "    <tr>\n",
       "      <th>ndvi_min</th>\n",
       "      <td>0.243481</td>\n",
       "    </tr>\n",
       "    <tr>\n",
       "      <th>ndvi_mean</th>\n",
       "      <td>0.195528</td>\n",
       "    </tr>\n",
       "    <tr>\n",
       "      <th>ndvi_max</th>\n",
       "      <td>0.185064</td>\n",
       "    </tr>\n",
       "    <tr>\n",
       "      <th>bai_min</th>\n",
       "      <td>0.138315</td>\n",
       "    </tr>\n",
       "    <tr>\n",
       "      <th>bai_mean</th>\n",
       "      <td>0.138232</td>\n",
       "    </tr>\n",
       "    <tr>\n",
       "      <th>bai_max</th>\n",
       "      <td>0.099379</td>\n",
       "    </tr>\n",
       "  </tbody>\n",
       "</table>\n",
       "</div>"
      ],
      "text/plain": [
       "           importance\n",
       "ndvi_min     0.243481\n",
       "ndvi_mean    0.195528\n",
       "ndvi_max     0.185064\n",
       "bai_min      0.138315\n",
       "bai_mean     0.138232\n",
       "bai_max      0.099379"
      ]
     },
     "execution_count": 55,
     "metadata": {},
     "output_type": "execute_result"
    }
   ],
   "source": [
    "feature_importances = pd.DataFrame(rf_random.best_estimator_.feature_importances_,\n",
    "                                   index = X_test.columns,\n",
    "                                    columns=['importance']).sort_values('importance', ascending=False)\n",
    " \n",
    "feature_importances"
   ]
  },
  {
   "cell_type": "code",
   "execution_count": null,
   "metadata": {},
   "outputs": [],
   "source": [
    " "
   ]
  },
  {
   "cell_type": "markdown",
   "metadata": {},
   "source": [
    "Make predictions back to the full original dataset"
   ]
  },
  {
   "cell_type": "code",
   "execution_count": null,
   "metadata": {},
   "outputs": [],
   "source": [
    "# extract point values for prediction\n",
    "#path = r'C:\\Users\\mmann\\Dropbox\\IFPRI_Fire_India\\Images_new\\ts_features'\n",
    "#rasters = tr.image_to_series(path)"
   ]
  },
  {
   "cell_type": "code",
   "execution_count": 259,
   "metadata": {},
   "outputs": [
    {
     "data": {
      "text/html": [
       "<div>\n",
       "<style scoped>\n",
       "    .dataframe tbody tr th:only-of-type {\n",
       "        vertical-align: middle;\n",
       "    }\n",
       "\n",
       "    .dataframe tbody tr th {\n",
       "        vertical-align: top;\n",
       "    }\n",
       "\n",
       "    .dataframe thead th {\n",
       "        text-align: right;\n",
       "    }\n",
       "</style>\n",
       "<table border=\"1\" class=\"dataframe\">\n",
       "  <thead>\n",
       "    <tr style=\"text-align: right;\">\n",
       "      <th></th>\n",
       "      <th>pixel_id</th>\n",
       "      <th>time</th>\n",
       "      <th>value</th>\n",
       "      <th>kind</th>\n",
       "    </tr>\n",
       "  </thead>\n",
       "  <tbody>\n",
       "    <tr>\n",
       "      <th>0</th>\n",
       "      <td>0</td>\n",
       "      <td>max</td>\n",
       "      <td>1537.835083</td>\n",
       "      <td>bai</td>\n",
       "    </tr>\n",
       "    <tr>\n",
       "      <th>1</th>\n",
       "      <td>0</td>\n",
       "      <td>mean</td>\n",
       "      <td>1537.835083</td>\n",
       "      <td>bai</td>\n",
       "    </tr>\n",
       "    <tr>\n",
       "      <th>2</th>\n",
       "      <td>0</td>\n",
       "      <td>min</td>\n",
       "      <td>1537.835083</td>\n",
       "      <td>bai</td>\n",
       "    </tr>\n",
       "    <tr>\n",
       "      <th>3</th>\n",
       "      <td>0</td>\n",
       "      <td>max</td>\n",
       "      <td>0.485552</td>\n",
       "      <td>ndvi</td>\n",
       "    </tr>\n",
       "    <tr>\n",
       "      <th>4</th>\n",
       "      <td>0</td>\n",
       "      <td>mean</td>\n",
       "      <td>0.385334</td>\n",
       "      <td>ndvi</td>\n",
       "    </tr>\n",
       "  </tbody>\n",
       "</table>\n",
       "</div>"
      ],
      "text/plain": [
       "   pixel_id  time        value  kind\n",
       "0         0   max  1537.835083   bai\n",
       "1         0  mean  1537.835083   bai\n",
       "2         0   min  1537.835083   bai\n",
       "3         0   max     0.485552  ndvi\n",
       "4         0  mean     0.385334  ndvi"
      ]
     },
     "execution_count": 259,
     "metadata": {},
     "output_type": "execute_result"
    }
   ],
   "source": [
    "path = r'C:\\Users\\mmann\\Dropbox\\IFPRI_Fire_India\\Images_new\\ts_features'\n",
    "rasters.to_csv(os.path.join(path,'features_df.csv'), chunksize=10000, index=False)\n",
    "rasters.head()"
   ]
  },
  {
   "cell_type": "code",
   "execution_count": 18,
   "metadata": {},
   "outputs": [
    {
     "data": {
      "text/html": [
       "<div>\n",
       "<style scoped>\n",
       "    .dataframe tbody tr th:only-of-type {\n",
       "        vertical-align: middle;\n",
       "    }\n",
       "\n",
       "    .dataframe tbody tr th {\n",
       "        vertical-align: top;\n",
       "    }\n",
       "\n",
       "    .dataframe thead th {\n",
       "        text-align: right;\n",
       "    }\n",
       "</style>\n",
       "<table border=\"1\" class=\"dataframe\">\n",
       "  <thead>\n",
       "    <tr style=\"text-align: right;\">\n",
       "      <th></th>\n",
       "      <th>pixel_id</th>\n",
       "      <th>time</th>\n",
       "      <th>value</th>\n",
       "      <th>kind</th>\n",
       "      <th>kind_type</th>\n",
       "    </tr>\n",
       "  </thead>\n",
       "  <tbody>\n",
       "    <tr>\n",
       "      <th>0</th>\n",
       "      <td>0</td>\n",
       "      <td>max</td>\n",
       "      <td>1537.835100</td>\n",
       "      <td>bai</td>\n",
       "      <td>bai_max</td>\n",
       "    </tr>\n",
       "    <tr>\n",
       "      <th>1</th>\n",
       "      <td>0</td>\n",
       "      <td>mean</td>\n",
       "      <td>1537.835100</td>\n",
       "      <td>bai</td>\n",
       "      <td>bai_mean</td>\n",
       "    </tr>\n",
       "    <tr>\n",
       "      <th>2</th>\n",
       "      <td>0</td>\n",
       "      <td>min</td>\n",
       "      <td>1537.835100</td>\n",
       "      <td>bai</td>\n",
       "      <td>bai_min</td>\n",
       "    </tr>\n",
       "    <tr>\n",
       "      <th>3</th>\n",
       "      <td>0</td>\n",
       "      <td>max</td>\n",
       "      <td>0.485552</td>\n",
       "      <td>ndvi</td>\n",
       "      <td>ndvi_max</td>\n",
       "    </tr>\n",
       "    <tr>\n",
       "      <th>4</th>\n",
       "      <td>0</td>\n",
       "      <td>mean</td>\n",
       "      <td>0.385334</td>\n",
       "      <td>ndvi</td>\n",
       "      <td>ndvi_mean</td>\n",
       "    </tr>\n",
       "  </tbody>\n",
       "</table>\n",
       "</div>"
      ],
      "text/plain": [
       "   pixel_id  time        value  kind  kind_type\n",
       "0         0   max  1537.835100   bai    bai_max\n",
       "1         0  mean  1537.835100   bai   bai_mean\n",
       "2         0   min  1537.835100   bai    bai_min\n",
       "3         0   max     0.485552  ndvi   ndvi_max\n",
       "4         0  mean     0.385334  ndvi  ndvi_mean"
      ]
     },
     "execution_count": 18,
     "metadata": {},
     "output_type": "execute_result"
    }
   ],
   "source": [
    "rasters['kind_type'] =rasters['kind'].astype(str) +'_'+ rasters['time'].astype(str)\n",
    "rasters.drop(['time','kind'],axis=1,inplace=True)\n",
    "rasters.head()"
   ]
  },
  {
   "cell_type": "markdown",
   "metadata": {},
   "source": [
    "convert from long to wide format"
   ]
  },
  {
   "cell_type": "code",
   "execution_count": 27,
   "metadata": {},
   "outputs": [
    {
     "data": {
      "text/html": [
       "<div>\n",
       "<style scoped>\n",
       "    .dataframe tbody tr th:only-of-type {\n",
       "        vertical-align: middle;\n",
       "    }\n",
       "\n",
       "    .dataframe tbody tr th {\n",
       "        vertical-align: top;\n",
       "    }\n",
       "\n",
       "    .dataframe thead th {\n",
       "        text-align: right;\n",
       "    }\n",
       "</style>\n",
       "<table border=\"1\" class=\"dataframe\">\n",
       "  <thead>\n",
       "    <tr style=\"text-align: right;\">\n",
       "      <th>kind_type</th>\n",
       "      <th>bai_max</th>\n",
       "      <th>bai_mean</th>\n",
       "      <th>bai_min</th>\n",
       "      <th>ndvi_max</th>\n",
       "      <th>ndvi_mean</th>\n",
       "      <th>ndvi_min</th>\n",
       "    </tr>\n",
       "    <tr>\n",
       "      <th>pixel_id</th>\n",
       "      <th></th>\n",
       "      <th></th>\n",
       "      <th></th>\n",
       "      <th></th>\n",
       "      <th></th>\n",
       "      <th></th>\n",
       "    </tr>\n",
       "  </thead>\n",
       "  <tbody>\n",
       "    <tr>\n",
       "      <th>0</th>\n",
       "      <td>1537.8351</td>\n",
       "      <td>1537.8351</td>\n",
       "      <td>1537.8351</td>\n",
       "      <td>0.485552</td>\n",
       "      <td>0.385334</td>\n",
       "      <td>0.285117</td>\n",
       "    </tr>\n",
       "    <tr>\n",
       "      <th>1</th>\n",
       "      <td>1289.7305</td>\n",
       "      <td>1289.7305</td>\n",
       "      <td>1289.7305</td>\n",
       "      <td>0.476450</td>\n",
       "      <td>0.376513</td>\n",
       "      <td>0.276576</td>\n",
       "    </tr>\n",
       "    <tr>\n",
       "      <th>2</th>\n",
       "      <td>1280.9679</td>\n",
       "      <td>1280.9679</td>\n",
       "      <td>1280.9679</td>\n",
       "      <td>0.468452</td>\n",
       "      <td>0.358194</td>\n",
       "      <td>0.247936</td>\n",
       "    </tr>\n",
       "    <tr>\n",
       "      <th>3</th>\n",
       "      <td>1805.2908</td>\n",
       "      <td>1805.2908</td>\n",
       "      <td>1805.2908</td>\n",
       "      <td>0.463188</td>\n",
       "      <td>0.330372</td>\n",
       "      <td>0.197555</td>\n",
       "    </tr>\n",
       "    <tr>\n",
       "      <th>4</th>\n",
       "      <td>2039.8162</td>\n",
       "      <td>2039.8162</td>\n",
       "      <td>2039.8162</td>\n",
       "      <td>0.483314</td>\n",
       "      <td>0.326562</td>\n",
       "      <td>0.169810</td>\n",
       "    </tr>\n",
       "  </tbody>\n",
       "</table>\n",
       "</div>"
      ],
      "text/plain": [
       "kind_type    bai_max   bai_mean    bai_min  ndvi_max  ndvi_mean  ndvi_min\n",
       "pixel_id                                                                 \n",
       "0          1537.8351  1537.8351  1537.8351  0.485552   0.385334  0.285117\n",
       "1          1289.7305  1289.7305  1289.7305  0.476450   0.376513  0.276576\n",
       "2          1280.9679  1280.9679  1280.9679  0.468452   0.358194  0.247936\n",
       "3          1805.2908  1805.2908  1805.2908  0.463188   0.330372  0.197555\n",
       "4          2039.8162  2039.8162  2039.8162  0.483314   0.326562  0.169810"
      ]
     },
     "execution_count": 27,
     "metadata": {},
     "output_type": "execute_result"
    }
   ],
   "source": [
    "rasters = rasters.pivot(index='pixel_id', columns='kind_type', values='value')\n",
    "rasters.head()"
   ]
  },
  {
   "cell_type": "code",
   "execution_count": 28,
   "metadata": {},
   "outputs": [],
   "source": [
    "#store\n",
    "path = r'C:\\Users\\mmann\\Dropbox\\IFPRI_Fire_India\\Images_new\\ts_features'\n",
    "rasters.to_csv(os.path.join(path,'features_df_wide.csv'), chunksize=50000, index=False)"
   ]
  },
  {
   "cell_type": "code",
   "execution_count": null,
   "metadata": {},
   "outputs": [],
   "source": [
    "path = r'C:\\Users\\mmann\\Dropbox\\IFPRI_Fire_India\\Images_new\\ts_features\\features_df_wide.csv'\n",
    "rasters = pd.read_csv(path)"
   ]
  },
  {
   "cell_type": "markdown",
   "metadata": {},
   "source": [
    "#### make prediction of class\n"
   ]
  },
  {
   "cell_type": "code",
   "execution_count": 56,
   "metadata": {},
   "outputs": [],
   "source": [
    "# returns class prediction\n",
    "all_predict = md.model_predict(model = rf_random,\n",
    "                                new_X = rasters)\n",
    "\n",
    "# returns probability of each class\n",
    "all_prob =  md.model_predict_prob(model = rf_random,\n",
    "                                  new_X = rasters)\n",
    " "
   ]
  },
  {
   "cell_type": "markdown",
   "metadata": {},
   "source": [
    "Convert text categories to numbers"
   ]
  },
  {
   "cell_type": "code",
   "execution_count": 63,
   "metadata": {},
   "outputs": [
    {
     "name": "stdout",
     "output_type": "stream",
     "text": [
      "['unharvest' 'harvest' 'burned' 'urban' 'water']\n",
      "[1 2 3 4 5]\n"
     ]
    }
   ],
   "source": [
    "print(all_predict.unique())\n",
    "cleanup_nums = {\"unharvest\": 1, \"harvest\": 2,'burned':3,'urban':4,'water':5 }\n",
    "all_predict.replace(cleanup_nums, inplace=True)     \n",
    "print(all_predict.unique())"
   ]
  },
  {
   "cell_type": "markdown",
   "metadata": {},
   "source": [
    "Plot land use classification"
   ]
  },
  {
   "cell_type": "code",
   "execution_count": 64,
   "metadata": {
    "scrolled": true
   },
   "outputs": [
    {
     "data": {
      "image/png": "[encoded data removed]",
      "text/plain": [
       "<Figure size 432x288 with 2 Axes>"
      ]
     },
     "metadata": {
      "needs_background": "light"
     },
     "output_type": "display_data"
    }
   ],
   "source": [
    "# convert classification  back to raster \n",
    "\n",
    "raster_ex = os.path.join(path,'bai_max.tif')\n",
    "ex_row, ex_cols =  rasterio.open(raster_ex).shape\n",
    "\n",
    "f2Array = all_predict.values.reshape(ex_row, ex_cols)\n",
    " # Plot the grid\n",
    "\n",
    "plt.imshow(f2Array)\n",
    "plt.set_cmap(\"Reds\")\n",
    "plt.colorbar( )\n",
    "plt.show()"
   ]
  },
  {
   "cell_type": "code",
   "execution_count": 75,
   "metadata": {},
   "outputs": [
    {
     "name": "stdout",
     "output_type": "stream",
     "text": [
      "C:\\Users\\mmann\\Dropbox\\IFPRI_Fire_India\\Images_new\\classifications\\\\all_predict.tif\n"
     ]
    },
    {
     "data": {
      "image/png": "[encoded data removed]",
      "text/plain": [
       "<Figure size 432x288 with 1 Axes>"
      ]
     },
     "metadata": {
      "needs_background": "light"
     },
     "output_type": "display_data"
    }
   ],
   "source": [
    "# convert preds back to raster \n",
    "ex_row, ex_cols =  rasterio.open(raster_ex).shape\n",
    "\n",
    "for column in [all_predict]:\n",
    "    #print(column)\n",
    "    f2Array =  column.values.reshape(ex_row, ex_cols)\n",
    "    plt.imshow(f2Array)\n",
    "\n",
    "    output_raster = r'C:\\Users\\mmann\\Dropbox\\IFPRI_Fire_India\\Images_new\\classifications\\\\all_predict.tif' \n",
    "    print(output_raster)\n",
    "    with rasterio.open(example_raster) as src_dataset:\n",
    "\n",
    "        kwds = src_dataset.profile\n",
    "        kwds.update({\n",
    "                'dtype': 'int16',\n",
    "                'nodata': -9999\n",
    "                })  \n",
    "\n",
    "        with rasterio.open(output_raster, 'w', **kwds) as dst_dataset:\n",
    "            # Write data to the destination dataset.\n",
    "            dst_dataset.write_band(1, np.int16(f2Array))"
   ]
  },
  {
   "cell_type": "code",
   "execution_count": null,
   "metadata": {},
   "outputs": [],
   "source": []
  },
  {
   "cell_type": "code",
   "execution_count": null,
   "metadata": {},
   "outputs": [],
   "source": []
  },
  {
   "cell_type": "code",
   "execution_count": null,
   "metadata": {},
   "outputs": [],
   "source": [
    "\n"
   ]
  },
  {
   "cell_type": "code",
   "execution_count": null,
   "metadata": {},
   "outputs": [],
   "source": []
  },
  {
   "cell_type": "code",
   "execution_count": null,
   "metadata": {},
   "outputs": [],
   "source": []
  }
 ],
 "metadata": {
  "kernelspec": {
   "display_name": "Python 3",
   "language": "python",
   "name": "python3"
  },
  "language_info": {
   "codemirror_mode": {
    "name": "ipython",
    "version": 3
   },
   "file_extension": ".py",
   "mimetype": "text/x-python",
   "name": "python",
   "nbconvert_exporter": "python",
   "pygments_lexer": "ipython3",
   "version": "3.6.8"
  }
 },
 "nbformat": 4,
 "nbformat_minor": 2
}
