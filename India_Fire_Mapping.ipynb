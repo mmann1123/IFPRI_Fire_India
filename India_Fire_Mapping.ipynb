{
 "cells": [
  {
   "cell_type": "code",
   "execution_count": 21,
   "metadata": {},
   "outputs": [
    {
     "ename": "ModuleNotFoundError",
     "evalue": "No module named 'rasterio'",
     "output_type": "error",
     "traceback": [
      "\u001b[1;31m---------------------------------------------------------------------------\u001b[0m",
      "\u001b[1;31mModuleNotFoundError\u001b[0m                       Traceback (most recent call last)",
      "\u001b[1;32m<ipython-input-21-4ebf3250cbfc>\u001b[0m in \u001b[0;36m<module>\u001b[1;34m\u001b[0m\n\u001b[0;32m      1\u001b[0m \u001b[1;32mimport\u001b[0m \u001b[0mos\u001b[0m\u001b[1;33m\u001b[0m\u001b[1;33m\u001b[0m\u001b[0m\n\u001b[1;32m----> 2\u001b[1;33m \u001b[1;32mimport\u001b[0m \u001b[0mrasterio\u001b[0m\u001b[1;33m\u001b[0m\u001b[1;33m\u001b[0m\u001b[0m\n\u001b[0m\u001b[0;32m      3\u001b[0m \u001b[1;32mfrom\u001b[0m \u001b[0mrasterio\u001b[0m\u001b[1;33m.\u001b[0m\u001b[0mmerge\u001b[0m \u001b[1;32mimport\u001b[0m \u001b[0mmerge\u001b[0m\u001b[1;33m\u001b[0m\u001b[1;33m\u001b[0m\u001b[0m\n\u001b[0;32m      4\u001b[0m \u001b[1;32mfrom\u001b[0m \u001b[0mshapely\u001b[0m\u001b[1;33m.\u001b[0m\u001b[0mgeometry\u001b[0m \u001b[1;32mimport\u001b[0m \u001b[0mmapping\u001b[0m\u001b[1;33m,\u001b[0m \u001b[0mPolygon\u001b[0m\u001b[1;33m,\u001b[0m \u001b[0mPoint\u001b[0m\u001b[1;33m\u001b[0m\u001b[1;33m\u001b[0m\u001b[0m\n\u001b[0;32m      5\u001b[0m \u001b[1;32mfrom\u001b[0m \u001b[0mrasterio\u001b[0m \u001b[1;32mimport\u001b[0m \u001b[0mfeatures\u001b[0m\u001b[1;33m\u001b[0m\u001b[1;33m\u001b[0m\u001b[0m\n",
      "\u001b[1;31mModuleNotFoundError\u001b[0m: No module named 'rasterio'"
     ]
    }
   ],
   "source": [
    "import os\n",
    "import rasterio\n",
    "from rasterio.merge import merge\n",
    "from shapely.geometry import mapping, Polygon, Point\n",
    "from rasterio import features\n",
    "import fiona\n",
    "from fiona.crs import from_epsg\n",
    "from osgeo import gdal\n",
    "import ogr, osr\n",
    "from osgeo import ogr\n",
    "import csv\n",
    "import geojson\n",
    "import json\n",
    "import pandas\n",
    "from rasterstats import raster_stats\n",
    "from glob import glob\n",
    "import matplotlib.pyplot as plt\n",
    "%matplotlib inline\n",
    "from sklearn.metrics import accuracy_score,confusion_matrix, cohen_kappa_score\n",
    "from sklearn.ensemble import RandomForestClassifier, GradientBoostingClassifier\n",
    "import tsraster.model  as md\n",
    "import pandas as pd\n",
    "from rasterio.warp import calculate_default_transform, reproject, Resampling\n",
    "from tsraster.calculate import calculateFeatures\n",
    "import seaborn as sb\n",
    "from sklearn.cluster import KMeans, DBSCAN\n",
    "from sklearn.preprocessing import StandardScaler"
   ]
  },
  {
   "cell_type": "markdown",
   "metadata": {},
   "source": [
    "## Download\n"
   ]
  },
  {
   "cell_type": "markdown",
   "metadata": {},
   "source": [
    "**conda activate planet_down environment*\n",
    "*from shell cd to location of get_planet_v2**\n",
    "\n",
    "running for dates:\n",
    "\n",
    "\"gte\":\"2016-10-15T01:00:00.000Z\", \"lte\":\"2016-10-21T23:00:00.000Z\"\n",
    "\n",
    "\"gte\":\"2016-11-15T01:00:00.000Z\", \"lte\":\"2016-11-21T23:00:00.000Z\"\n",
    "\n",
    "\"gte\":\"2016-12-01T01:00:00.000Z\", \"lte\":\"2016-12-15T23:00:00.000Z\"\n",
    "\n",
    "python get_planet_v2.py --path C:\\Users\\mmann\\Documents\\GitHub\\IFPRI_Fire_India\\Images_new --filter ./example.json --key YOUR_API_KEY"
   ]
  },
  {
   "cell_type": "markdown",
   "metadata": {},
   "source": [
    "# Merge \n",
    "\n",
    "*create composites of images for same day*\n",
    "\n",
    "First see if we can get gdal working"
   ]
  },
  {
   "cell_type": "code",
   "execution_count": null,
   "metadata": {},
   "outputs": [],
   "source": [
    "!gdalinfo \"./Images_new/4352923_2016-12-01_RE2_3A_Analytic_clip.tif\""
   ]
  },
  {
   "cell_type": "markdown",
   "metadata": {},
   "source": [
    "Get unique dates to merge"
   ]
  },
  {
   "cell_type": "code",
   "execution_count": 1,
   "metadata": {},
   "outputs": [
    {
     "name": "stdout",
     "output_type": "stream",
     "text": [
      "./Images_new\\20161018_044250_0e1f_3B_AnalyticMS_clip.tif ./Images_new\\20161017_055724_0c19_3B_AnalyticMS_clip.tif ./Images_new\\20161017_044241_0e0d_3B_AnalyticMS_clip.tif ./Images_new\\20161017_055726_0c19_3B_AnalyticMS_clip.tif ./Images_new\\20161017_044242_0e0d_3B_AnalyticMS_clip.tif ./Images_new\\20161205_101811_0c75_3B_AnalyticMS_clip.tif ./Images_new\\20161017_055723_0c19_3B_AnalyticMS_clip.tif ./Images_new\\20161017_044240_0e0d_3B_AnalyticMS_clip.tif ./Images_new\\20161017_044243_0e0d_3B_AnalyticMS_clip.tif ./Images_new\\20161018_044252_0e1f_3B_AnalyticMS_clip.tif ./Images_new\\20161018_044251_0e1f_3B_AnalyticMS_clip.tif ./Images_new\\20161017_055725_0c19_3B_AnalyticMS_clip.tif\n",
      "./Images_new\\20161124_044355_0e19_3B_AnalyticMS.tif ./Images_new\\20161121_044424_0e3a_3B_AnalyticMS.tif ./Images_new\\20161118_044452_0e20_3B_AnalyticMS_clip.tif ./Images_new\\20161118_044450_0e20_3B_AnalyticMS_clip.tif ./Images_new\\20161116_044440_0e3a_3B_AnalyticMS_clip.tif ./Images_new\\20161121_044425_0e3a_3B_AnalyticMS.tif ./Images_new\\20161124_044357_0e19_3B_AnalyticMS.tif ./Images_new\\20161116_044315_0e0d_3B_AnalyticMS_clip.tif ./Images_new\\20161205_101811_0c75_3B_AnalyticMS_clip.tif ./Images_new\\20161124_044358_0e19_3B_AnalyticMS.tif ./Images_new\\20161124_044356_0e19_3B_AnalyticMS.tif ./Images_new\\20161116_044313_0e0d_3B_AnalyticMS_clip.tif ./Images_new\\20161121_044426_0e3a_3B_AnalyticMS.tif ./Images_new\\20161116_044439_0e3a_3B_AnalyticMS_clip.tif ./Images_new\\20161116_044441_0e3a_3B_AnalyticMS_clip.tif ./Images_new\\20161116_044316_0e0d_3B_AnalyticMS_clip.tif\n",
      "./Images_new\\20161219_044126_0c41_3B_AnalyticMS.tif ./Images_new\\20161219_043942_0c42_3B_AnalyticMS.tif ./Images_new\\20161219_044125_0c41_3B_AnalyticMS.tif ./Images_new\\20161219_043945_0c42_3B_AnalyticMS.tif ./Images_new\\20161201_044316_0e3a_3B_AnalyticMS_clip.tif ./Images_new\\20161205_101811_0c75_3B_AnalyticMS_clip.tif ./Images_new\\20161201_044317_0e3a_3B_AnalyticMS_clip.tif ./Images_new\\20161219_044127_1_0c41_3B_AnalyticMS.tif ./Images_new\\20161213_070355_0c24_3B_AnalyticMS.tif ./Images_new\\20161219_043943_0c42_3B_AnalyticMS.tif ./Images_new\\20161213_070355_1_0c24_3B_AnalyticMS.tif ./Images_new\\20161219_043944_0c42_3B_AnalyticMS.tif ./Images_new\\20161213_070354_0c24_3B_AnalyticMS.tif ./Images_new\\20161213_070353_0c24_3B_AnalyticMS.tif\n"
     ]
    }
   ],
   "source": [
    "import glob \n",
    "\n",
    "octo = set(glob.glob('./Images_new/*2016*10*1*AnalyticMS*.tif'))-set(glob.glob('./Images_new/*DN*'))\n",
    "octo = ' '.join(str(elem) for elem in octo)\n",
    "print(octo)\n",
    "\n",
    "nov = set(glob.glob('./Images_new/*2016*11*AnalyticMS*.tif'))-set(glob.glob('./Images_new/*DN*'))\n",
    "nov = ' '.join(str(elem) for elem in nov)\n",
    "print(nov)\n",
    "\n",
    "# get 12-01\n",
    "dec = set(glob.glob('./Images_new/201612*AnalyticMS*.tif'))-set(glob.glob('./Images_new/*DN*'))\n",
    "dec = ' '.join(str(elem) for elem in dec)\n",
    "print(dec)\n",
    "\n",
    " \n",
    "\n"
   ]
  },
  {
   "cell_type": "code",
   "execution_count": 19,
   "metadata": {},
   "outputs": [
    {
     "name": "stdout",
     "output_type": "stream",
     "text": [
      "-A ./Images_new\\20161018_044250_0e1f_3B_AnalyticMS_clip.tif -B ./Images_new\\20161017_055724_0c19_3B_AnalyticMS_clip.tif -C ./Images_new\\20161017_044241_0e0d_3B_AnalyticMS_clip.tif -D ./Images_new\\20161017_055726_0c19_3B_AnalyticMS_clip.tif -E ./Images_new\\20161017_044242_0e0d_3B_AnalyticMS_clip.tif -F ./Images_new\\20161205_101811_0c75_3B_AnalyticMS_clip.tif -G ./Images_new\\20161017_055723_0c19_3B_AnalyticMS_clip.tif -H ./Images_new\\20161017_044240_0e0d_3B_AnalyticMS_clip.tif -I ./Images_new\\20161017_044243_0e0d_3B_AnalyticMS_clip.tif -J ./Images_new\\20161018_044252_0e1f_3B_AnalyticMS_clip.tif -K ./Images_new\\20161018_044251_0e1f_3B_AnalyticMS_clip.tif -L ./Images_new\\20161017_055725_0c19_3B_AnalyticMS_clip.tif\n",
      "(A + B + C + D + E + F + G + H + I + J + K + L)/12\n",
      "-A ./Images_new\\20161124_044355_0e19_3B_AnalyticMS.tif -B ./Images_new\\20161121_044424_0e3a_3B_AnalyticMS.tif -C ./Images_new\\20161118_044452_0e20_3B_AnalyticMS_clip.tif -D ./Images_new\\20161118_044450_0e20_3B_AnalyticMS_clip.tif -E ./Images_new\\20161116_044440_0e3a_3B_AnalyticMS_clip.tif -F ./Images_new\\20161121_044425_0e3a_3B_AnalyticMS.tif -G ./Images_new\\20161124_044357_0e19_3B_AnalyticMS.tif -H ./Images_new\\20161116_044315_0e0d_3B_AnalyticMS_clip.tif -I ./Images_new\\20161205_101811_0c75_3B_AnalyticMS_clip.tif -J ./Images_new\\20161124_044358_0e19_3B_AnalyticMS.tif -K ./Images_new\\20161124_044356_0e19_3B_AnalyticMS.tif -L ./Images_new\\20161116_044313_0e0d_3B_AnalyticMS_clip.tif -M ./Images_new\\20161121_044426_0e3a_3B_AnalyticMS.tif -N ./Images_new\\20161116_044439_0e3a_3B_AnalyticMS_clip.tif -O ./Images_new\\20161116_044441_0e3a_3B_AnalyticMS_clip.tif -P ./Images_new\\20161116_044316_0e0d_3B_AnalyticMS_clip.tif\n",
      "(A + B + C + D + E + F + G + H + I + J + K + L + M + N + O + P)/12\n",
      "-A ./Images_new\\20161219_044126_0c41_3B_AnalyticMS.tif -B ./Images_new\\20161219_043942_0c42_3B_AnalyticMS.tif -C ./Images_new\\20161219_044125_0c41_3B_AnalyticMS.tif -D ./Images_new\\20161219_043945_0c42_3B_AnalyticMS.tif -E ./Images_new\\20161201_044316_0e3a_3B_AnalyticMS_clip.tif -F ./Images_new\\20161205_101811_0c75_3B_AnalyticMS_clip.tif -G ./Images_new\\20161201_044317_0e3a_3B_AnalyticMS_clip.tif -H ./Images_new\\20161219_044127_1_0c41_3B_AnalyticMS.tif -I ./Images_new\\20161213_070355_0c24_3B_AnalyticMS.tif -J ./Images_new\\20161219_043943_0c42_3B_AnalyticMS.tif -K ./Images_new\\20161213_070355_1_0c24_3B_AnalyticMS.tif -L ./Images_new\\20161219_043944_0c42_3B_AnalyticMS.tif -M ./Images_new\\20161213_070354_0c24_3B_AnalyticMS.tif -N ./Images_new\\20161213_070353_0c24_3B_AnalyticMS.tif\n"
     ]
    },
    {
     "data": {
      "text/plain": [
       "'(A + B + C + D + E + F + G + H + I + J + K + L + M + N)/14'"
      ]
     },
     "execution_count": 19,
     "metadata": {},
     "output_type": "execute_result"
    }
   ],
   "source": [
    "# create gdal_calc expressions\n",
    "\n",
    "from string import ascii_uppercase\n",
    "\n",
    "octo = set(glob.glob('./Images_new/*2016*10*1*AnalyticMS*.tif'))-set(glob.glob('./Images_new/*DN*'))\n",
    "octo_files = ' '.join('-'+letter +' '+ str(image) for image, letter in zip(octo, ascii_uppercase))\n",
    "print(octo_files)\n",
    "octo_exp = '('+' + '.join( letter   for image, letter in zip(octo, ascii_uppercase)) + ')/' +str(len(octo))\n",
    "print(octo_exp)\n",
    "\n",
    "nov = set(glob.glob('./Images_new/*2016*11*AnalyticMS*.tif'))-set(glob.glob('./Images_new/*DN*'))\n",
    "nov_files = ' '.join('-'+letter +' '+ str(image) for image, letter in zip(nov, ascii_uppercase))\n",
    "print(nov_files)\n",
    "nov_exp = '('+' + '.join( letter   for image, letter in zip(nov, ascii_uppercase)) + ')/' +str(len(octo))\n",
    "print(nov_exp)\n",
    "\n",
    "dec = set(glob.glob('./Images_new/201612*AnalyticMS*.tif'))-set(glob.glob('./Images_new/*DN*'))\n",
    "dec_files = ' '.join('-'+letter +' '+ str(image) for image, letter in zip(dec, ascii_uppercase))\n",
    "print(dec_files)\n",
    "\n",
    "dec_exp = '('+' + '.join( letter   for image, letter in zip(dec, ascii_uppercase)) + ')/' +str(len(dec))\n",
    "dec_exp\n",
    "\n",
    "\n",
    "\n"
   ]
  },
  {
   "cell_type": "markdown",
   "metadata": {},
   "source": [
    "Paste into command line:"
   ]
  },
  {
   "cell_type": "code",
   "execution_count": null,
   "metadata": {},
   "outputs": [],
   "source": [
    "python C:\\Users\\mmann\\AppData\\Local\\Continuum\\anaconda3\\envs\\ts-raster\\Lib\\site-packages\\osgeo\\scripts\\gdal_merge.py -of gtiff  -o October_mosaic.tif -v ./Images_new\\20161017_044243_0e0d_3B_AnalyticMS_clip.tif ./Images_new\\20161017_055723_0c19_3B_AnalyticMS_clip.tif ./Images_new\\20161017_055725_0c19_3B_AnalyticMS_clip.tif ./Images_new\\20161205_101811_0c75_3B_AnalyticMS_clip.tif ./Images_new\\20161018_044251_0e1f_3B_AnalyticMS_clip.tif ./Images_new\\20161017_044242_0e0d_3B_AnalyticMS_clip.tif ./Images_new\\20161018_044250_0e1f_3B_AnalyticMS_clip.tif ./Images_new\\20161017_044240_0e0d_3B_AnalyticMS_clip.tif ./Images_new\\20161018_044252_0e1f_3B_AnalyticMS_clip.tif ./Images_new\\20161017_055724_0c19_3B_AnalyticMS_clip.tif ./Images_new\\20161017_044241_0e0d_3B_AnalyticMS_clip.tif ./Images_new\\20161017_055726_0c19_3B_AnalyticMS_clip.tif"
   ]
  },
  {
   "cell_type": "code",
   "execution_count": null,
   "metadata": {},
   "outputs": [],
   "source": [
    "python C:\\Users\\mmann\\AppData\\Local\\Continuum\\anaconda3\\envs\\ts-raster\\Lib\\site-packages\\osgeo\\scripts\\gdal_merge.py -of gtiff -a_nodata -9999 -pct  -o November_mosaic.tif -v ./Images_new\\20161205_101811_0c75_3B_AnalyticMS_clip.tif ./Images_new\\20161121_044424_0e3a_3B_AnalyticMS.tif ./Images_new\\20161124_044357_0e19_3B_AnalyticMS.tif ./Images_new\\20161116_044315_0e0d_3B_AnalyticMS_clip.tif ./Images_new\\20161118_044450_0e20_3B_AnalyticMS_clip.tif ./Images_new\\20161116_044313_0e0d_3B_AnalyticMS_clip.tif ./Images_new\\20161124_044358_0e19_3B_AnalyticMS.tif ./Images_new\\20161121_044425_0e3a_3B_AnalyticMS.tif ./Images_new\\20161116_044441_0e3a_3B_AnalyticMS_clip.tif ./Images_new\\20161124_044355_0e19_3B_AnalyticMS.tif ./Images_new\\20161118_044452_0e20_3B_AnalyticMS_clip.tif ./Images_new\\20161116_044316_0e0d_3B_AnalyticMS_clip.tif ./Images_new\\20161121_044426_0e3a_3B_AnalyticMS.tif ./Images_new\\20161116_044439_0e3a_3B_AnalyticMS_clip.tif ./Images_new\\20161116_044440_0e3a_3B_AnalyticMS_clip.tif ./Images_new\\20161124_044356_0e19_3B_AnalyticMS.tif"
   ]
  },
  {
   "cell_type": "code",
   "execution_count": 20,
   "metadata": {},
   "outputs": [
    {
     "ename": "SyntaxError",
     "evalue": "invalid syntax (<ipython-input-20-112efce34d9a>, line 1)",
     "output_type": "error",
     "traceback": [
      "\u001b[1;36m  File \u001b[1;32m\"<ipython-input-20-112efce34d9a>\"\u001b[1;36m, line \u001b[1;32m1\u001b[0m\n\u001b[1;33m    python C:\\Users\\mmann\\AppData\\Local\\Continuum\\anaconda3\\envs\\ts-raster\\Lib\\site-packages\\osgeo\\scripts\\gdal_merge.py  -a_nodata -9999 -pct -of gtiff  -o December_mosaic.tif -v ./Images_new\\20161219_043945_0c42_3B_AnalyticMS.tif ./Images_new\\20161213_070355_0c24_3B_AnalyticMS.tif ./Images_new\\20161219_043942_0c42_3B_AnalyticMS.tif ./Images_new\\20161205_101811_0c75_3B_AnalyticMS_clip.tif ./Images_new\\20161219_043943_0c42_3B_AnalyticMS.tif ./Images_new\\20161219_044125_0c41_3B_AnalyticMS.tif ./Images_new\\20161201_044316_0e3a_3B_AnalyticMS_clip.tif ./Images_new\\20161213_070354_0c24_3B_AnalyticMS.tif ./Images_new\\20161213_070353_0c24_3B_AnalyticMS.tif ./Images_new\\20161213_070355_1_0c24_3B_AnalyticMS.tif ./Images_new\\20161219_044127_1_0c41_3B_AnalyticMS.tif ./Images_new\\20161201_044317_0e3a_3B_AnalyticMS_clip.tif ./Images_new\\20161219_043944_0c42_3B_AnalyticMS.tif ./Images_new\\20161219_044126_0c41_3B_AnalyticMS.tif\u001b[0m\n\u001b[1;37m           ^\u001b[0m\n\u001b[1;31mSyntaxError\u001b[0m\u001b[1;31m:\u001b[0m invalid syntax\n"
     ]
    }
   ],
   "source": [
    "python C:\\Users\\mmann\\AppData\\Local\\Continuum\\anaconda3\\envs\\ts-raster\\Lib\\site-packages\\osgeo\\scripts\\gdal_merge.py  -a_nodata -9999 -pct -of gtiff  -o December_mosaic.tif -v ./Images_new\\20161219_043945_0c42_3B_AnalyticMS.tif ./Images_new\\20161213_070355_0c24_3B_AnalyticMS.tif ./Images_new\\20161219_043942_0c42_3B_AnalyticMS.tif ./Images_new\\20161205_101811_0c75_3B_AnalyticMS_clip.tif ./Images_new\\20161219_043943_0c42_3B_AnalyticMS.tif ./Images_new\\20161219_044125_0c41_3B_AnalyticMS.tif ./Images_new\\20161201_044316_0e3a_3B_AnalyticMS_clip.tif ./Images_new\\20161213_070354_0c24_3B_AnalyticMS.tif ./Images_new\\20161213_070353_0c24_3B_AnalyticMS.tif ./Images_new\\20161213_070355_1_0c24_3B_AnalyticMS.tif ./Images_new\\20161219_044127_1_0c41_3B_AnalyticMS.tif ./Images_new\\20161201_044317_0e3a_3B_AnalyticMS_clip.tif ./Images_new\\20161219_043944_0c42_3B_AnalyticMS.tif ./Images_new\\20161219_044126_0c41_3B_AnalyticMS.tif"
   ]
  },
  {
   "cell_type": "code",
   "execution_count": null,
   "metadata": {},
   "outputs": [],
   "source": [
    "python C:\\Users\\mmann\\AppData\\Local\\Continuum\\anaconda2\\envs\\ts-rasterv3\\Lib\\site-packages\\osgeo\\scripts\\gdal_calc.py -A ./Images_new\\20161018_044250_0e1f_3B_AnalyticMS_clip.tif -B ./Images_new\\20161017_055724_0c19_3B_AnalyticMS_clip.tif -C ./Images_new\\20161017_044241_0e0d_3B_AnalyticMS_clip.tif -D ./Images_new\\20161017_055726_0c19_3B_AnalyticMS_clip.tif -E ./Images_new\\20161017_044242_0e0d_3B_AnalyticMS_clip.tif -F ./Images_new\\20161205_101811_0c75_3B_AnalyticMS_clip.tif -G ./Images_new\\20161017_055723_0c19_3B_AnalyticMS_clip.tif -H ./Images_new\\20161017_044240_0e0d_3B_AnalyticMS_clip.tif -I ./Images_new\\20161017_044243_0e0d_3B_AnalyticMS_clip.tif -J ./Images_new\\20161018_044252_0e1f_3B_AnalyticMS_clip.tif -K ./Images_new\\20161018_044251_0e1f_3B_AnalyticMS_clip.tif -L ./Images_new\\20161017_055725_0c19_3B_AnalyticMS_clip.tif --outfile=October_mosaic.tif --calc=\"(A + B + C + D + E + F + G + H + I + J + K + L)/12\" --NoDataValue=0"
   ]
  },
  {
   "cell_type": "markdown",
   "metadata": {},
   "source": [
    "# Calculate Features\n"
   ]
  },
  {
   "cell_type": "code",
   "execution_count": null,
   "metadata": {},
   "outputs": [],
   "source": [
    "# Function to calculate the Burn Area Index for each raster\n",
    "def bai_rast(inpath, outpath):\n",
    "    \n",
    "    # Opens the raster for the calculation\n",
    "    with rasterio.open(inpath) as src:\n",
    "        brn_data = src.read()\n",
    "       \n",
    "    # BAI Formula\n",
    "    brn_bai = (1 / ((.1-brn_data[2])**2)+((.06-brn_data[3])**2))\n",
    "    \n",
    "    # Sets up the metadata for the output raster\n",
    "    with rasterio.open(inpath) as src:\n",
    "        brn_data_ras = src.read()\n",
    "        brn_meta = src.profile\n",
    "\n",
    "    brn_transform = brn_meta[\"transform\"]\n",
    "    brn_crs = brn_meta[\"crs\"]\n",
    "    brn_meta['count'] = 1\n",
    "    brn_meta['dtype'] = 'float64'\n",
    "\n",
    "    # Saves out the raster according to the below criteria\n",
    "    with rasterio.open(outpath, 'w', **brn_meta) as dst:\n",
    "        dst.write(brn_bai, 1)\n",
    "\n",
    "# Function to select files to calculate the BAI on\n",
    "def compare2():\n",
    "    ending_list = []\n",
    "    for root, dirs, files in os.walk(inpath):\n",
    "        for filename in files:\n",
    "            if filename.endswith(\"merge.tif\"):\n",
    "                print('File name is: {0}'.format(filename))\n",
    "                ending_list.append(filename.split('_',1)[0])\n",
    "\n",
    "    unique_ending = list(set(ending_list))\n",
    "    unique2 = unique_ending\n",
    "    \n",
    "    # Selects the files using a unique identifier and sets up the out paths\n",
    "    for unique in unique_ending:\n",
    "        for root, dirs, files in os.walk(inpath):\n",
    "            for filename in files:\n",
    "                if filename.startswith(unique):\n",
    "                    files_unique = [x for x in files if x.startswith(unique)]\n",
    "                    file_paths = [x for x in files_unique if x.endswith(\"merge.tif\")]\n",
    "                    outpath = inpath + unique + \"_bai.tif\"\n",
    "                    if unique != False:\n",
    "                        os.chdir(inpath)\n",
    "                        bai_rast(file_paths[0], outpath)\n",
    "               \n",
    "\n",
    "compare2()"
   ]
  }
 ],
 "metadata": {
  "kernelspec": {
   "display_name": "Python [conda env:ML3]",
   "language": "python",
   "name": "conda-env-ML3-py"
  },
  "language_info": {
   "codemirror_mode": {
    "name": "ipython",
    "version": 3
   },
   "file_extension": ".py",
   "mimetype": "text/x-python",
   "name": "python",
   "nbconvert_exporter": "python",
   "pygments_lexer": "ipython3",
   "version": "3.7.2"
  }
 },
 "nbformat": 4,
 "nbformat_minor": 2
}
