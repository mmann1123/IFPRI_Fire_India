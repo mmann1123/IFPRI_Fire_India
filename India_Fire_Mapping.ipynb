{
 "cells": [
  {
   "cell_type": "markdown",
   "metadata": {},
   "source": [
    "## Download\n"
   ]
  },
  {
   "cell_type": "markdown",
   "metadata": {},
   "source": [
    "*activate planet_down environment*\n",
    "*from shell cd to location of get_planet_v2*\n",
    "\n",
    "running for dates:\n",
    "\n",
    "\"gte\":\"2016-10-15T01:00:00.000Z\", \"lte\":\"2016-10-18T23:00:00.000Z\"\n",
    "\n",
    "\"gte\":\"2016-11-15T01:00:00.000Z\", \"lte\":\"2016-11-18T23:00:00.000Z\"\n",
    "\n",
    "\"gte\":\"2016-12-01T01:00:00.000Z\", \"lte\":\"2016-12-04T23:00:00.000Z\"\n",
    "\n",
    "python get_planet_v2.py --path C:\\Users\\mmann\\Documents\\GitHub\\IFPRI_Fire_India\\Images_new --filter ./example.json --key YOUR_API_KEY"
   ]
  },
  {
   "cell_type": "code",
   "execution_count": null,
   "metadata": {},
   "outputs": [],
   "source": []
  }
 ],
 "metadata": {
  "kernelspec": {
   "display_name": "Python [conda env:ML3]",
   "language": "python",
   "name": "conda-env-ML3-py"
  },
  "language_info": {
   "codemirror_mode": {
    "name": "ipython",
    "version": 3
   },
   "file_extension": ".py",
   "mimetype": "text/x-python",
   "name": "python",
   "nbconvert_exporter": "python",
   "pygments_lexer": "ipython3",
   "version": "3.7.2"
  }
 },
 "nbformat": 4,
 "nbformat_minor": 2
}
